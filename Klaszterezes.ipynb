{
  "nbformat": 4,
  "nbformat_minor": 0,
  "metadata": {
    "colab": {
      "name": "Klaszterezes.ipynb",
      "provenance": [],
      "collapsed_sections": [],
      "authorship_tag": "ABX9TyNaWUMiGI/PY0hB6EMe60id",
      "include_colab_link": true
    },
    "kernelspec": {
      "name": "python3",
      "display_name": "Python 3"
    },
    "language_info": {
      "name": "python"
    }
  },
  "cells": [
    {
      "cell_type": "markdown",
      "metadata": {
        "id": "view-in-github",
        "colab_type": "text"
      },
      "source": [
        "<a href=\"https://colab.research.google.com/github/kr7/IntelligensModszerekTantargy/blob/main/Klaszterezes.ipynb\" target=\"_parent\"><img src=\"https://colab.research.google.com/assets/colab-badge.svg\" alt=\"Open In Colab\"/></a>"
      ]
    },
    {
      "cell_type": "code",
      "metadata": {
        "id": "CTsuKcLWVg_T"
      },
      "source": [
        "import pandas as pd \n",
        "import numpy as np\n",
        "import math\n",
        "import matplotlib.pyplot as plt\n",
        "\n",
        "from google.colab import widgets\n",
        "from typing import Tuple\n",
        "\n",
        "from sklearn.metrics.pairwise import euclidean_distances"
      ],
      "execution_count": null,
      "outputs": []
    },
    {
      "cell_type": "markdown",
      "metadata": {
        "id": "WRpcAt-11YJ2"
      },
      "source": [
        "**Adatok betöltése**"
      ]
    },
    {
      "cell_type": "code",
      "metadata": {
        "id": "b6RzzJcqfebK"
      },
      "source": [
        "data_in_frame = pd.read_csv('https://archive.ics.uci.edu/ml/machine-learning-databases/iris/iris.data', \n",
        "                   header=None, names=['sepal length', 'sepal width', 'petal length', 'petal width', 'class'])\n",
        "\n",
        "data = np.zeros( (len(data_in_frame), 4 ))\n",
        "data[:,0] = data_in_frame['sepal length']\n",
        "data[:,1] = data_in_frame['sepal width']\n",
        "data[:,2] = data_in_frame['petal length']\n",
        "data[:,3] = data_in_frame['petal width']"
      ],
      "execution_count": null,
      "outputs": []
    },
    {
      "cell_type": "markdown",
      "metadata": {
        "id": "o-tJKNQ9fR6M"
      },
      "source": [
        "**1. feladat: Iris adatok klaszterezése k-means-zel**\n",
        "\n"
      ]
    },
    {
      "cell_type": "code",
      "metadata": {
        "id": "ov5Ini67h_Fl"
      },
      "source": [
        "# k-means vázlata \n",
        "# (ez kezdetben nem végrehajtható, mert a hivatkozott függvények még nincsenek implementálva)\n",
        "\n",
        "num_iterations = 10\n",
        "centroids = initial_centroids(data)\n",
        "for i in range(num_iterations):\n",
        "  clusters_of_instances = calculate_clusters_of_instances(data, centroids)\n",
        "  centroids = calculate_new_centroids(data, clusters_of_instances)"
      ],
      "execution_count": null,
      "outputs": []
    },
    {
      "cell_type": "markdown",
      "metadata": {
        "id": "YyZtfaNxiUc7"
      },
      "source": [
        "(a) Írjon egy függvényt *initial_centroids* néven, amely visszaadja a kezdeti klaszterközéppontokat! Annak érdekében, hogy tanulmányozhassuk a kezdeti klaszterközéppontok hatását a klaszterezés eredményére, most ne véletlenszerűen válassza meg a kezdeti klaszterközéppontokat, hanem válassza a 60-dik, 70-dik és 80-dik példányokat kezdeti klaszterközéppontnak! A függvény az adattábla előbbi példányait adja vissza, mint kezdeti klaszterközéppontot!\n",
        "\n",
        "(b) Írjon egy függvényt *calculate_clusters_of_instances* néven, amely meghatározza, hogy adott centroidok mellett mely klaszterekbe tartoznak az egyes példányok, a klaszterek sorszámozása kezdődjön 0-val. A függvény adjon vissza egy np.array-t, amely példányonként azt tartalmazza, hogy a hányadik klaszterba tartozik az adott példány!\n",
        "\n",
        "(c) Írjon egy függvényt *calculate_new_centroids* néven, amely kiszámolja az új centroidokat!\n",
        "\n",
        "(d) Annak érdekében, hogy meg tudjuk jeleníteni az algoritmus lépéseit, módosítsa a *k-means vázlata* elnevezésű kódot olyan módon, hogy a  *clusters_of_instances_per_iteration* elnevezésű listába (np.arrayek listájába) mentse le minden iteráció végén az aktuális klaszterezést!\n",
        "\n",
        "(e) Írjon egy függvényt *get_color* néven, amely a vörös, kék és sárga színeket rendeli a 0, 1, 2 számokhoz!\n",
        "\n",
        "(f) Írja meg azt a kódrészletet, amely létrehoz egy listát *colors* néven, amely a legelső ('0-dik') iteráció végén keletkezett klaszterezés eredményének megfelelő színeket tartalmazza az adattábla egyes példányaira!\n",
        "\n",
        "(g) Írja meg azt a kódrészletet, amely létrehozza egy listák listáját *colors_per_iteration* néven, amely az előbbi pontban létrehozott listához hasonló listákat tartalmaz minden egyes iteráció végén kapott klaszterezésnek megfelelően!\n",
        "\n",
        "(h) A megadott kódrészlet segítségével jelenítse meg a klaszterezés menetét (a klazterezés eredményét az egyes iterációk végén), és értelmezze az ereményeket!\n",
        "\n",
        "(i) Módosítsa a *k-means vázlata* elnevezésű kódot olyan módon, minden egyes iteráció végén mentse le a klaszterközéppontokat. Írassa ki a klaszterközéppontokat és értelmezze az ereményeket! \n",
        "\n",
        "(j) Módosítsa a *k-means vázlata* elnevezésű kódot olyan módon, minden egyes iteráció végén számolja ki az azonos klaszterekbe került példányok közötti átlagos távolságot (intra-cluster distance)! Jelenítse meg az eredményeket a matplotlib.pyplot.plot() függvény segítségével!\n",
        "\n",
        "(k) Módosítsa a *k-means vázlata* elnevezésű kódot olyan módon, minden egyes iteráció végén számolja ki a különböző klaszterekbe került példányok közötti átlagos távolságot (inter-cluster distance)! Jelenítse meg az eredményeket a matplotlib.pyplot.plot() függvény segítségével!\n",
        "\n",
        "(l) Módosítsa a *k-means vázlata* elnevezésű kódot olyan módon, minden egyes iteráció végén számolja ki az egyes példányok hozzájuk legközelebbi klaszerközéponttól való átlagos távolságát! Jelenítse meg az eredményeket a matplotlib.pyplot.plot() függvény segítségével!\n",
        "\n",
        "(m) Indítsa a klaszterezést a 25-dik, 75-dik, 125-dik példányokat használva kezdeti klaszterközéppontként! Hasonlítsa össze az eredményeket az előbbiekben kapott eredményekkel!\n",
        "\n",
        "(n) Indítsa a klaszterezést az első, második és harmadik példányokat használva kezdeti klaszterközéppontként! Hasonlítsa össze az eredményeket az előbbiekben kapott eredményekkel!"
      ]
    },
    {
      "cell_type": "code",
      "metadata": {
        "id": "AbuYmffiTJeb"
      },
      "source": [
        "def initial_centroids(data):\n",
        "  ...IDE JÖN A KÓD..."
      ],
      "execution_count": null,
      "outputs": []
    },
    {
      "cell_type": "code",
      "metadata": {
        "id": "dETG2mZOTYQy"
      },
      "source": [
        "def calculate_clusters_of_instances(data, centroids):\n",
        "  ...IDE JÖN A KÓD..."
      ],
      "execution_count": null,
      "outputs": []
    },
    {
      "cell_type": "code",
      "metadata": {
        "id": "H_FMcpzMTezG"
      },
      "source": [
        "def calculate_new_centroids(data, calculate_clusters_of_instances, num_clusters=3):\n",
        "  ...IDE JÖN A KÓD..."
      ],
      "execution_count": null,
      "outputs": []
    },
    {
      "cell_type": "code",
      "metadata": {
        "id": "6cVEtaBI2yRR"
      },
      "source": [
        "...IDE JÖN A KÓD..."
      ],
      "execution_count": null,
      "outputs": []
    },
    {
      "cell_type": "code",
      "metadata": {
        "id": "J5CDJovWXT5P"
      },
      "source": [
        "def get_color(c):\n",
        "  ...IDE JÖN A KÓD..."
      ],
      "execution_count": null,
      "outputs": []
    },
    {
      "cell_type": "code",
      "metadata": {
        "id": "xZCTiJAMYiaP"
      },
      "source": [
        "colors_per_iteration = []\n",
        "for i in range(num_iterations):\n",
        "  ...IDE JÖN A KÓD..."
      ],
      "execution_count": null,
      "outputs": []
    },
    {
      "cell_type": "code",
      "metadata": {
        "id": "YCqMo81GWL0r"
      },
      "source": [
        "tb = widgets.TabBar(list(range(10)), location='top')\n",
        "\n",
        "for i in range(num_iterations):\n",
        "  with tb.output_to(i):\n",
        "    p = data_in_frame.plot.scatter('petal length', 'petal width',\n",
        "                                      c = colors_per_iteration[i], marker='x')\n",
        "    p.set_facecolor('lightgrey')"
      ],
      "execution_count": null,
      "outputs": []
    },
    {
      "cell_type": "code",
      "metadata": {
        "id": "0F1ax17ad9vg"
      },
      "source": [
        "...IDE JÖN A KÓD..."
      ],
      "execution_count": null,
      "outputs": []
    },
    {
      "cell_type": "code",
      "metadata": {
        "id": "dgZDdlpmb3Wa"
      },
      "source": [
        "...IDE JÖN A KÓD..."
      ],
      "execution_count": null,
      "outputs": []
    },
    {
      "cell_type": "code",
      "metadata": {
        "id": "Os2Jw0rfBa7T"
      },
      "source": [
        "...IDE JÖN A KÓD..."
      ],
      "execution_count": null,
      "outputs": []
    },
    {
      "cell_type": "code",
      "metadata": {
        "id": "TXIEML5ICjAx"
      },
      "source": [
        "...IDE JÖN A KÓD..."
      ],
      "execution_count": null,
      "outputs": []
    },
    {
      "cell_type": "markdown",
      "metadata": {
        "id": "PeL7b_2R5VZS"
      },
      "source": [
        "**2. feladat: klaszterező algoritmusok scikit-learn-ben**\n",
        "\n",
        "(a) k-means: tanulmányozza az alábbi kódot és változtassa meg a keresendő klaszterek számát 4-re!"
      ]
    },
    {
      "cell_type": "code",
      "metadata": {
        "id": "yZqmqCKEEcKc"
      },
      "source": [
        "from sklearn.cluster import KMeans\n",
        "\n",
        "kmeans = KMeans(n_clusters=3, random_state=0).fit(data)\n",
        "print(kmeans.labels_)\n",
        "print(kmeans.cluster_centers_)"
      ],
      "execution_count": null,
      "outputs": []
    },
    {
      "cell_type": "code",
      "metadata": {
        "id": "3Q-mB85KF8yK"
      },
      "source": [
        "colors = [get_color(kmeans.labels_[j]) for j in range(len(data))]\n",
        "p = data_in_frame.plot.scatter('petal length', 'petal width',\n",
        "                                      c = colors, marker='x')\n",
        "p.set_facecolor('lightgrey')"
      ],
      "execution_count": null,
      "outputs": []
    },
    {
      "cell_type": "markdown",
      "metadata": {
        "id": "f5q4BA9gJxc_"
      },
      "source": [
        "(b) Tanulmányozza az alábbi kódot és próbálja ki a hierarchikus klaszterező előadáson tanult változatait (single link, complete link, average link)!"
      ]
    },
    {
      "cell_type": "code",
      "metadata": {
        "id": "wkudOg_dJFq6"
      },
      "source": [
        "from sklearn.cluster import AgglomerativeClustering\n",
        "\n",
        "model = AgglomerativeClustering(n_clusters=3, linkage='single')\n",
        "model = model.fit(data)\n",
        "\n",
        "colors = [get_color(model.labels_[j]) for j in range(len(data))]\n",
        "p = data_in_frame.plot.scatter('petal length', 'petal width',\n",
        "                                      c = colors, marker='x')\n",
        "p.set_facecolor('lightgrey')"
      ],
      "execution_count": null,
      "outputs": []
    },
    {
      "cell_type": "markdown",
      "metadata": {
        "id": "BlWpFirrH-yT"
      },
      "source": [
        "A klaszterezés eredményét ún. dendogramon is ábrázolhatjuk.\n",
        "\n",
        "Lásd még: https://scikit-learn.org/stable/auto_examples/cluster/plot_agglomerative_dendrogram.html"
      ]
    },
    {
      "cell_type": "code",
      "metadata": {
        "id": "QC4GF9OoIi0p"
      },
      "source": [
        "from scipy.cluster.hierarchy import dendrogram\n",
        "\n",
        "def plot_dendrogram(model, **kwargs):\n",
        "    counts = np.zeros(model.children_.shape[0])\n",
        "    n_samples = len(model.labels_)\n",
        "    for i, merge in enumerate(model.children_):\n",
        "        current_count = 0\n",
        "        for child_idx in merge:\n",
        "            if child_idx < n_samples:\n",
        "                current_count += 1  # leaf node\n",
        "            else:\n",
        "                current_count += counts[child_idx - n_samples]\n",
        "        counts[i] = current_count\n",
        "\n",
        "    linkage_matrix = np.column_stack([model.children_, model.distances_,\n",
        "                                      counts]).astype(float)\n",
        "\n",
        "    # Plot the corresponding dendrogram\n",
        "    dendrogram(linkage_matrix, **kwargs)\n",
        "\n",
        "# setting distance_threshold=0 ensures we compute the full tree.\n",
        "model = AgglomerativeClustering(distance_threshold=0, n_clusters=None)\n",
        "model = model.fit(data)\n",
        "\n",
        "plt.title('Hierarchical Clustering Dendrogram')\n",
        "# plot the top three levels of the dendrogram\n",
        "plot_dendrogram(model, truncate_mode='level', p=3)\n",
        "plt.xlabel(\"Number of points in node (or index of point if no parenthesis).\")\n",
        "plt.show()"
      ],
      "execution_count": null,
      "outputs": []
    }
  ]
}