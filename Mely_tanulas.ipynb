{
  "nbformat": 4,
  "nbformat_minor": 0,
  "metadata": {
    "colab": {
      "name": "Mely tanulas.ipynb",
      "provenance": [],
      "collapsed_sections": [],
      "authorship_tag": "ABX9TyM+kd64/p02un2td1ej2d3w",
      "include_colab_link": true
    },
    "kernelspec": {
      "name": "python3",
      "display_name": "Python 3"
    },
    "language_info": {
      "name": "python"
    },
    "accelerator": "GPU"
  },
  "cells": [
    {
      "cell_type": "markdown",
      "metadata": {
        "id": "view-in-github",
        "colab_type": "text"
      },
      "source": [
        "<a href=\"https://colab.research.google.com/github/kr7/IntelligensModszerekTantargy/blob/main/Mely_tanulas.ipynb\" target=\"_parent\"><img src=\"https://colab.research.google.com/assets/colab-badge.svg\" alt=\"Open In Colab\"/></a>"
      ]
    },
    {
      "cell_type": "code",
      "metadata": {
        "id": "0YORYkQQ69o9"
      },
      "source": [
        "import cv2\n",
        "import numpy as np\n",
        "import matplotlib.pyplot as plt\n",
        "import torch\n",
        "import torch.nn as nn\n",
        "import torch.optim as optim\n",
        "\n",
        "from google.colab import widgets"
      ],
      "execution_count": null,
      "outputs": []
    },
    {
      "cell_type": "markdown",
      "metadata": {
        "id": "MM0lurY3SuYL"
      },
      "source": [
        "**Adatok betöltése és megjelenítése**"
      ]
    },
    {
      "cell_type": "markdown",
      "metadata": {
        "id": "ubuLDTUxUBgw"
      },
      "source": [
        "Ahogy az előadáson elhangzott, neurális hálózatokat különféle felismerési feladatokra használunk. Aktuális kutatási témák közé tartozik például a COVID korai diagnózisa röntgenfelvételek alapján, ld. pl.\n",
        "\n",
        "https://www.sciencedirect.com/science/article/abs/pii/S0169260720314140 \n",
        "\n",
        "Ezen a gyakorlaton, annak érdekében, hogy gyorsan (1-2 perc alatt) tudjuk tanítani a neurális hálózatot, egy egyszerű felismerési feladattal foglalkozunk, kézzel írt számjegyek felismerésével, és számítások további gyorsítása érdekében az eredetileg 16x16 pixeles képeket átméretezzük 8x8 felbontású képekké."
      ]
    },
    {
      "cell_type": "code",
      "metadata": {
        "id": "D1X-09ZG7sbM"
      },
      "source": [
        "data = np.loadtxt('https://archive.ics.uci.edu/ml/machine-learning-databases/semeion/semeion.data')"
      ],
      "execution_count": null,
      "outputs": []
    },
    {
      "cell_type": "code",
      "metadata": {
        "id": "ap6igjolTw5y"
      },
      "source": [
        "original_img_size = (16, 16)\n",
        "new_img_size = (8,8)\n",
        "\n",
        "data_8x8 = []\n",
        "for i in range(len(data)):\n",
        "  img_16x16 = np.reshape(data[i,0:256], original_img_size)\n",
        "  img_8x8 = cv2.resize(img_16x16, new_img_size)\n",
        "  img_8x8 = np.reshape(img_8x8, (64))\n",
        "  data_8x8.append( img_8x8 )\n",
        "\n",
        "data_8x8 = np.array(data_8x8)"
      ],
      "execution_count": null,
      "outputs": []
    },
    {
      "cell_type": "markdown",
      "metadata": {
        "id": "r2VM0WNXUOPh"
      },
      "source": [
        "Néhány átméretezett képet megjelenítünk szürkeárnyalatos képként."
      ]
    },
    {
      "cell_type": "code",
      "metadata": {
        "id": "_YKClqsd8QqO"
      },
      "source": [
        "tb = widgets.TabBar([str(i) for i in range(10)], location='top')\n",
        "for i in range(10):\n",
        "  with tb.output_to(i):\n",
        "    an_image = np.reshape(data_8x8[200+i*20], new_img_size )\n",
        "    plt.figure(figsize=(2,2))\n",
        "    plt.imshow(1-an_image, cmap='gray', vmin=0, vmax=1)\n",
        "    plt.show()"
      ],
      "execution_count": null,
      "outputs": []
    },
    {
      "cell_type": "markdown",
      "metadata": {
        "id": "bC19p6kuVAZn"
      },
      "source": [
        "Felosztjuk az adatainkat tanító és teszt adatokra. Az utolsó 500 példány lesz a teszt adathalmaz, a többi a tanítóhalmaz."
      ]
    },
    {
      "cell_type": "code",
      "metadata": {
        "id": "HWifHgrKCN4a"
      },
      "source": [
        "train_data = data_8x8[:1093,0:64]\n",
        "train_labels = data[:1093,256:266]\n",
        "test_data = data_8x8[1093:,0:64]\n",
        "test_labels = data[1093:,256:266]"
      ],
      "execution_count": null,
      "outputs": []
    },
    {
      "cell_type": "markdown",
      "metadata": {
        "id": "xFQGBxJ1WXY4"
      },
      "source": [
        "**A modell definiálása**\n",
        "\n",
        "A köveketkezők feladatok során a most definiált neurális hálóból fogunk kiindulni. A bemeneti réteg unit-jainak száma 64, mert egy-egy kép 8x8=64 pixelt tartalmaz. A háló két belső réteggel rendelkezik, ezek 100 ill. 50 unitot tartalmaznak. A kimeneti rétegben a 10 osztály mindegyikének egy-egy unit felel meg. Definiálnunk kell a neurális háló által elvégzett számítást leíró forward(...) függvényt is. "
      ]
    },
    {
      "cell_type": "code",
      "metadata": {
        "id": "juC3zhcr_ZK0"
      },
      "source": [
        "class DigitRecognizer(nn.Module):\n",
        "    def __init__(self):\n",
        "        super(DigitRecognizer, self).__init__()\n",
        "        num_units_h1 = 100\n",
        "        num_units_h2 = 50\n",
        "\n",
        "        self.fc1 = nn.Linear(64, num_units_h1)\n",
        "        self.fc2 = nn.Linear(num_units_h1, num_units_h2)\n",
        "        self.out = nn.Linear(num_units_h2, 10) \n",
        "\n",
        "    def forward(self, x):\n",
        "        x = torch.relu(self.fc1(x))\n",
        "        x = torch.relu(self.fc2(x))\n",
        "        x = self.out(x)\n",
        "        return x"
      ],
      "execution_count": null,
      "outputs": []
    },
    {
      "cell_type": "markdown",
      "metadata": {
        "id": "F0zRFLG6aG1h"
      },
      "source": [
        "**A háló tanítása:**\n",
        "- a tanítóadatoból létrehozunk egy tensor datasetet, amelyet egy DataLoader-en keresztül fogunk elérni,\n",
        "- példányosítjuk a hálót,\n",
        "- megadjuk a célfüggvényt,\n",
        "- példányosítjuk az optimalizáló algoritmust,\n",
        "- végül a tanítóadatokon végighaladva az egyes batchekre elvégezzük az optimalizációs algoritmus egy-egy lépését (for ciklus)"
      ]
    },
    {
      "cell_type": "code",
      "metadata": {
        "id": "IQpL05UH9rJM"
      },
      "source": [
        "train_dataset = torch.utils.data.TensorDataset(\n",
        "    torch.Tensor(train_data), torch.Tensor(train_labels) )\n",
        "trainloader = torch.utils.data.DataLoader(\n",
        "    train_dataset, shuffle=True, batch_size=16)\n",
        "\n",
        "net = DigitRecognizer()\n",
        "criterion = nn.BCEWithLogitsLoss()\n",
        "optimizer = optim.SGD(net.parameters(), lr=1e-2)\n",
        "\n",
        "running_loss = 0.0\n",
        "running_n = 0\n",
        "\n",
        "for epoch in range(1000):  \n",
        "  for inputs, targets in trainloader:\n",
        "    optimizer.zero_grad()\n",
        "    \n",
        "    outputs = net(inputs)\n",
        "\n",
        "    loss = criterion(outputs, targets)\n",
        "    loss.backward()\n",
        "    optimizer.step()\n",
        "\n",
        "    running_loss += loss.item()\n",
        "    running_n = running_n + 1\n",
        "\n",
        "  #print('epoch %d, loss: %.3f' % (epoch + 1, running_loss / running_n))\n",
        "  running_loss = 0.0\n",
        "  running_n = 0   "
      ],
      "execution_count": null,
      "outputs": []
    },
    {
      "cell_type": "markdown",
      "metadata": {
        "id": "dYCPlBY4aEHI"
      },
      "source": [
        "**A háló pontosságának mérése**\n",
        "\n",
        "Megnézzük, hogy a tesztpéldányok közül hányat sikerül helyesen osztályozni."
      ]
    },
    {
      "cell_type": "code",
      "metadata": {
        "id": "0sP7L1TkBeAq"
      },
      "source": [
        "def eval_net(net):\n",
        "  test_dataset = torch.utils.data.TensorDataset( \n",
        "        torch.Tensor(test_data), torch.Tensor(test_labels))\n",
        "  testloader = torch.utils.data.DataLoader(test_dataset)\n",
        "\n",
        "  correct = 0\n",
        "  total = 0\n",
        "\n",
        "  with torch.no_grad():\n",
        "    for inputs, targets in testloader:\n",
        "      outputs = net(inputs)\n",
        "      _, predicted = torch.max(outputs.data, 1)\n",
        "      _, targets_ordinal = torch.max(targets, 1)\n",
        "      \n",
        "      total += targets.size(0)\n",
        "      correct += (predicted == targets_ordinal)\n",
        "\n",
        "  return float(correct/total)"
      ],
      "execution_count": null,
      "outputs": []
    },
    {
      "cell_type": "code",
      "metadata": {
        "id": "9AtXBJCuey0j"
      },
      "source": [
        "eval_net(net)"
      ],
      "execution_count": null,
      "outputs": []
    },
    {
      "cell_type": "markdown",
      "metadata": {
        "id": "jr5JQDcYdT_-"
      },
      "source": [
        "**1. feladat: aktivációs függvények a rejtett rétegekben** \n",
        "\n",
        "Az előbbi neurális hálóban cserélje ki az első és második rejtett rétegbeli aktivációs függvényt \n",
        "\n",
        "(a) szigmoid (torch.sigmoid),\n",
        "\n",
        "(b) softplus (torch.nn.functional.softplus),\n",
        "\n",
        "(c) Leaky ReLU (torch.nn.functional.leaky_relu),\n",
        "\n",
        "(d) Leaky ReLU 0.2-es negatív meredekséggel (negative_slope=0.2),\n",
        "\n",
        "(e) tangens hiperbolicus (torch.tanh)\n",
        "\n",
        "függvényre. Tanítsa és értékelje ki a hálózatot! "
      ]
    },
    {
      "cell_type": "code",
      "metadata": {
        "id": "sIjKSaqddS-N"
      },
      "source": [
        ""
      ],
      "execution_count": null,
      "outputs": []
    },
    {
      "cell_type": "code",
      "metadata": {
        "id": "yI_dvYZKdeBn"
      },
      "source": [
        ""
      ],
      "execution_count": null,
      "outputs": []
    },
    {
      "cell_type": "code",
      "metadata": {
        "id": "ZqXmwkNgejH9"
      },
      "source": [
        ""
      ],
      "execution_count": null,
      "outputs": []
    },
    {
      "cell_type": "markdown",
      "metadata": {
        "id": "CkxeBVO4AnBf"
      },
      "source": [
        "**2. feladat: hibafüggvény**\n",
        "\n",
        "A neurális háló tanítása során eredetileg kereszt-entrópiát (\"binary cross entropy with logits loss\") használtuk hibafüggvényként. Tanítsa a hálót a négyzetes hibák átlagát (nn.MSELoss) használva és értékelje ki a háló teljesítményét!"
      ]
    },
    {
      "cell_type": "code",
      "metadata": {
        "id": "OFMbyGo1ZVZS"
      },
      "source": [
        ""
      ],
      "execution_count": null,
      "outputs": []
    },
    {
      "cell_type": "code",
      "metadata": {
        "id": "OdIepTYAZVSz"
      },
      "source": [
        ""
      ],
      "execution_count": null,
      "outputs": []
    },
    {
      "cell_type": "markdown",
      "metadata": {
        "id": "3ZmyTZhwZ_LB"
      },
      "source": [
        "**3. feladat: optimalizáló algoritmus**\n",
        "\n",
        "(a) A stochastic gradient descent és minibatch gradient descent algoritmusok egyik előnytelen tulajdonsága, hogy nem garantált, hogy az optimális irányba \"lépünk\" a paraméterek értékeinek frissítésekor. Sőt előfordulhat, hogy \"össze-vissza\" lépkedünk, egyszer a \"jó\" megoldás irányába, máskor egy masik irányba. Ezen próbál javítani a momentumok használata: momentumok használata esetén az aktuális javító lépés nem kizárólag az adott minibatch során számolt gradiensből adódik, hanem figyelembe vesszük a korábbi javítólépéseket is. Minél nagyobb a momentum értéke, annál többet számítanak a korábbi javítólépések, annál kevésbe fogunk \"össze-vissza\" ugrálni, azaz \"egyenletesebben\" haladunk a megoldás irányába. Paraméterezze az optimalizációs algoritmust úgy, hogy 0.2-es értékű momentumot használjon és értékelje ki a kapott hálót!\n",
        "\n",
        "(b) Használjon 0.8-as értékű momentumot és hasonlítsa össze a kapott haló teljesítményét az előbbi hálóéval!\n",
        "\n",
        "(c) SGD helyett használja az ADAM (ADAptive Moments) optimalizációs algoritmust (optim.Adam)! "
      ]
    },
    {
      "cell_type": "code",
      "metadata": {
        "id": "v01K8uj1ZVMU"
      },
      "source": [
        ""
      ],
      "execution_count": null,
      "outputs": []
    },
    {
      "cell_type": "code",
      "metadata": {
        "id": "-c33TAUwZVHE"
      },
      "source": [
        ""
      ],
      "execution_count": null,
      "outputs": []
    },
    {
      "cell_type": "markdown",
      "metadata": {
        "id": "ZpcCwnoGfe3d"
      },
      "source": [
        "**4. feladat: Tanulási ráta csökkentése**\n",
        "\n",
        "Kezdetben, amíg \"messze\" vagyunk a \"jó\" megoldástól, érdemes lehet nagyobb tanulási rátát használni, részben azért, hogy gyorsan jussunk a \"jó\" megoldás közelébe, részeben pedig azért, hogy a hibafüggvény lokális minimumait \"átugorjuk\". (Lineáris regresszióval ellentétben a neurális hálók tanítása általában nem konvex otpimalizációs feladat.)\n",
        "\n",
        "A torch.optim.lr_scheduler.StepLR-t használva csökkentse minden 10-dik epoch végén 10%-kal a tanulási rátát, a kezdeti tanulási rátát állítsa 0.05-re! Tanítsa majd értékelje ki a hálózatot! Ha szükséges, nézze tanulmányozza a dokumentációt: https://pytorch.org/docs/stable/optim.html "
      ]
    },
    {
      "cell_type": "code",
      "metadata": {
        "id": "RLBQzYAmZU5a"
      },
      "source": [
        ""
      ],
      "execution_count": null,
      "outputs": []
    },
    {
      "cell_type": "code",
      "metadata": {
        "id": "zbyoQ8fxhfbZ"
      },
      "source": [
        ""
      ],
      "execution_count": null,
      "outputs": []
    },
    {
      "cell_type": "markdown",
      "metadata": {
        "id": "tEp5wvLCisOC"
      },
      "source": [
        "**5. feladat: regularizáció**\n",
        "\n",
        "(a) Early stop: minden tanítóepoch végén értékelje ki a neurális hálózatot, és határozza meg, hány epochig érdemes tanítani a legjobb pontosság eléréséhez. Az epoch végén végzett kiértékelés eredménye a hálózat tényleges pontosságának torzítatlan becslése lesz-e?\n",
        "\n",
        "(b) Az optimalizációs algoritmus paraméterezésével valósítson meg L2 regularizációt (az előadáson használt jelölések szerint) lambda=0.01 súllyal (Pytorch-ban \"lambda\" elnevezése: \"weight_decay\").\n",
        "\n",
        "(c) Dropout (nn.Dropout) réteg bevezetésével valósítson meg dropout-ot a második rejtett réteget követően!"
      ]
    },
    {
      "cell_type": "code",
      "metadata": {
        "id": "PutQPFCZjQ-m"
      },
      "source": [
        ""
      ],
      "execution_count": null,
      "outputs": []
    },
    {
      "cell_type": "code",
      "metadata": {
        "id": "yo0On5VGHPgE"
      },
      "source": [
        ""
      ],
      "execution_count": null,
      "outputs": []
    },
    {
      "cell_type": "markdown",
      "metadata": {
        "id": "nTa1ZEtvyRZA"
      },
      "source": [
        "**6. feladat: Mély Neurális Hálózatok**\n",
        "\n",
        "Definiáljon egy modellt, amelynek 4 rejtett rétege van, minden rejtett rétegben 100 unit legyen. Tanítsa a modellt és értékelje ki a modell pontosságát!\n"
      ]
    },
    {
      "cell_type": "code",
      "metadata": {
        "id": "R8JrJ8ljyxAI"
      },
      "source": [
        ""
      ],
      "execution_count": null,
      "outputs": []
    },
    {
      "cell_type": "markdown",
      "metadata": {
        "id": "D8eiF6FYynKB"
      },
      "source": [
        "**7. feladat: Konvolúciós hálózatok**\n",
        "\n",
        "Adott az alábbi konvolúciós neurális hálózat. Tanulmányozza a kódot, majd hajtsa végre az alábbi módosításokat. Mindegyik módosítás után  tanítsa és értékelje ki a hálót!\n",
        "\n",
        "(a) Mennyi most a konvolúciós szűrők (más néven: *filterek*, vagy a konvolúció műveletének *kimeneti csatornáinak* száma)? Növelje meg a konvolúciós szűrők számát 10-re!\n",
        "\n",
        "(b) Milyen méretű lokális mintázat felismerésére képes egy-egy konvolúciós szűrő? Növelje meg a kernel méretét 5x5-ösre! \n",
        "\n",
        "(c) Töltse fel a kép szélét nullákkal olyan módon, hogy a kép felbontása ne változzon a konvolúció során! (Tipp: *padding* állítása)\n",
        "\n",
        "(d) A konvolúciót követően vezessen be egy 2x2-es max pooling réteget! (Tipp: használja az *nn.MaxPool2d*-t!)\n",
        "\n",
        "(e) A gyorsabb tanítás érdekében helyettesítse a max pooling réteget azzal, hogy a konvolúció lépéstávolságát 1-ről 2-re növeli! (Tipp: *stride* állítása)"
      ]
    },
    {
      "cell_type": "code",
      "metadata": {
        "id": "diVHfKJeyxpZ"
      },
      "source": [
        "class DigitRecognizerCNN(nn.Module):\n",
        "    def __init__(self):\n",
        "        super(DigitRecognizerCNN, self).__init__()\n",
        "        num_units_fc = 25\n",
        "\n",
        "        self.conv1 = nn.Conv2d(in_channels = 1, out_channels = 5, \n",
        "                               kernel_size=(3,3))\n",
        "        self.fc = nn.Linear(5*6*6, num_units_fc)\n",
        "        self.out = nn.Linear(num_units_fc, 10) \n",
        "\n",
        "    def forward(self, x):\n",
        "        x = x.view(-1, 1, 8, 8)\n",
        "        x = self.conv1(x)\n",
        "        x = x.view(-1, 5*6*6)\n",
        "        x = torch.relu(self.fc(x))\n",
        "        x = self.out(x)\n",
        "        return x"
      ],
      "execution_count": null,
      "outputs": []
    },
    {
      "cell_type": "code",
      "metadata": {
        "id": "D5d7BlOqIcX_"
      },
      "source": [
        "train_dataset = torch.utils.data.TensorDataset(\n",
        "    torch.Tensor(train_data), torch.Tensor(train_labels) )\n",
        "trainloader = torch.utils.data.DataLoader(\n",
        "    train_dataset, shuffle=True, batch_size=16)\n",
        "\n",
        "net = DigitRecognizerCNN()\n",
        "criterion = nn.BCEWithLogitsLoss()\n",
        "optimizer = optim.SGD(net.parameters(), lr=0.01)\n",
        "\n",
        "running_loss = 0.0\n",
        "running_n = 0\n",
        "\n",
        "best_acc = 0\n",
        "best_epoch = 0\n",
        "\n",
        "for epoch in range(1000):  \n",
        "  for inputs, targets in trainloader:\n",
        "    optimizer.zero_grad()\n",
        "    \n",
        "    outputs = net(inputs)\n",
        "\n",
        "    loss = criterion(outputs, targets)\n",
        "    loss.backward()\n",
        "    optimizer.step()\n",
        "\n",
        "    running_loss += loss.item()\n",
        "    running_n = running_n + 1"
      ],
      "execution_count": null,
      "outputs": []
    },
    {
      "cell_type": "code",
      "metadata": {
        "id": "hu9JiKeqJrvf"
      },
      "source": [
        "eval_net(net)"
      ],
      "execution_count": null,
      "outputs": []
    },
    {
      "cell_type": "code",
      "metadata": {
        "id": "67eqDx4sJ38n"
      },
      "source": [
        ""
      ],
      "execution_count": null,
      "outputs": []
    },
    {
      "cell_type": "code",
      "metadata": {
        "id": "voCTRA4ZLP9N"
      },
      "source": [
        ""
      ],
      "execution_count": null,
      "outputs": []
    },
    {
      "cell_type": "code",
      "metadata": {
        "id": "ivZy0dy6HBMq"
      },
      "source": [
        ""
      ],
      "execution_count": null,
      "outputs": []
    },
    {
      "cell_type": "markdown",
      "metadata": {
        "id": "pUGmgh5jHAeu"
      },
      "source": [
        "**Ajánlott irodalom**\n",
        "\n",
        "https://pytorch.org/tutorials/beginner/blitz/cifar10_tutorial.html"
      ]
    }
  ]
}