{
  "nbformat": 4,
  "nbformat_minor": 0,
  "metadata": {
    "colab": {
      "name": "CleanCode.ipynb",
      "provenance": [],
      "collapsed_sections": [],
      "authorship_tag": "ABX9TyObi0OMTZlzwtw6qvFsvrSI",
      "include_colab_link": true
    },
    "kernelspec": {
      "name": "python3",
      "display_name": "Python 3"
    }
  },
  "cells": [
    {
      "cell_type": "markdown",
      "metadata": {
        "id": "view-in-github",
        "colab_type": "text"
      },
      "source": [
        "<a href=\"https://colab.research.google.com/github/kr7/IntelligensModszerekTantargy/blob/main/CleanCode.ipynb\" target=\"_parent\"><img src=\"https://colab.research.google.com/assets/colab-badge.svg\" alt=\"Open In Colab\"/></a>"
      ]
    },
    {
      "cell_type": "markdown",
      "metadata": {
        "id": "jBvHO5h4xnEg"
      },
      "source": [
        "**Clean Code és Unit tesztek**"
      ]
    },
    {
      "cell_type": "markdown",
      "metadata": {
        "id": "EIPguEuuxxB7"
      },
      "source": [
        "**Clean Code** \n",
        "\n",
        "- *A kód olvasásával és írásával töltött idő aránya jelentősen több, mint 10:1-hez, az olvasás javára* (Robert C. Martin: Clean Code)\n",
        "\n",
        "- Azt szeretnénk, hogy általunk írt kód jól olvasható, könnyen értelmezhető legyen. Miért? \n",
        "\n",
        "  - a kód helyességének ellenőrzése, biztosítása\n",
        "\n",
        "  - hosszú távú karbantarthatóság\n",
        "\n",
        "- Kerüljük a nehezen értelmezhető, nem-intuitív, akár félrevezető kódrészeket. Az alábbiak közül melyik olvasható jobban?\n",
        "    \n",
        "\n",
        "          legkondi_allapota = \"off\" or legkondi_allapota\n",
        "          \n",
        "          legkondi_allapota = legkondi_allapota or \"off\"\n",
        "         \n",
        "          if legkondi_allapota is None:\n",
        "            legkondi_allapota = \"off\"\n",
        "\n",
        "              \n",
        "          lista.append(elem)\n",
        "\n",
        "          lista = lista + [elem] \n",
        "\n",
        "          \n",
        "\n",
        "\n",
        "- Elnevezések: használjunk beszédes elnevezéseket, olyan elővigyázatossággal járjunk el a változók, függvények, osztályok, példányok, stb. elnevezésekor, mintha a saját gyerekünknek adnánk nevet - Elon Musk ellenpélda! :-) \n",
        "\n",
        "- Amit csak lehet, nevezzünk el, ne használjunk \"mágikus konstansokat\", hanem nevezzük el a számokat\n",
        "\n",
        "\n",
        "          k = 2 * 31.415\n",
        "          \n",
        "          kor_sugara = 10\n",
        "          PI = 3.1415\n",
        "          kor_kerulete = 2 * PI * kor_sugara\n",
        "          \n",
        "\n",
        "          FEHER = 0\n",
        "          FEKETE = 1\n",
        "          ...\n",
        "          mezo_allapota = FEHER\n",
        "\n",
        "\n",
        "- Rövid, áttekinthető függvényeket, osztályokat írjunk, egy függvény/osztály egy dolgot csináljon! Inkább több rövid (és jól elnevezett függvényt/osztályt) írjunk, mint kevés hosszú, nehezen áttekinthető függvényt/osztályt!\n",
        "\n",
        "- A logikailag összetartozó \"dolgok\" egymáshoz közel legyenek a kódban, tagoljuk a kódot (üres sorok, szóközök)!\n",
        "\n",
        "- Ne használjunk túl hosszú sorokat, sokszorosan egymásba ágyazott zárójeleket!\n",
        "\n",
        "- Használjunk típusannotációkat!\n",
        "\n",
        "- Kommentek: főleg \"miért\"-re fókuszáljon, a \"mit\"/\"hogyan\" legyen érthető a kódból (\"self-documenting code\").\n",
        "\n",
        "- Hibák kezelése: \n",
        "\n",
        "  - legyünk \"őszinték\", ne hagyjuk figyelmen kívül al hibát (\"a legkissebb hibád, megbosszúlja önmagát\" - Máté Péter: Most élsz),\n",
        "  \n",
        "  - használjunk (saját) Exception-öket és beszédes hibaüzeneteket!\n",
        "\n",
        "- Használjunk unit teszteket (erről kicsit részletesebben lesz szó a következő szakaszban)!\n",
        "\n",
        "- ... (a felsorolás még sokáig folytatható, ld. Robert C. Martin: Clean Code c. könyvét) ...\n",
        "\n",
        "\n",
        "\n"
      ]
    },
    {
      "cell_type": "markdown",
      "metadata": {
        "id": "NqrJtshB47_c"
      },
      "source": [
        "**Példa**\n",
        "\n",
        "A legelső órán láttunk egy ún. *tökéletes számokat* kereső kódot, ami egyébként hibás, de a hibát (ebben az alakban) nehéz megtalálni. Ezért most refaktoráljuk a kódot. (Emlékeztetőül: tökéletes számnak nevezünk egy számot akkor, ha az osztóinak összege, önmagát nem számítva, megegyezik a számmal. Például: 6 tökéletes, hiszen 1+2+3=6.)"
      ]
    },
    {
      "cell_type": "code",
      "metadata": {
        "id": "XSKx7M1IzBMN"
      },
      "source": [
        "import math\n",
        "\n",
        "def tokeletes_e(szam):\n",
        "  osztok_osszege = 1\n",
        "  for x in range(2,math.ceil(math.sqrt(szam))):\n",
        "    if szam % x == 0:\n",
        "      osztok_osszege += x\n",
        "      osztok_osszege += (szam/x)\n",
        "  if osztok_osszege == szam:\n",
        "    return True\n",
        "  else:\n",
        "    return False\n",
        "\n",
        "for i in range(6,10000+1):\n",
        "  if tokeletes_e(i):\n",
        "    print(i)"
      ],
      "execution_count": null,
      "outputs": []
    },
    {
      "cell_type": "code",
      "metadata": {
        "id": "9zZqgIp86AwL"
      },
      "source": [
        "def osztoja(szam: int, lehetseges_oszto: int) -> bool:\n",
        "  return (szam % lehetseges_oszto == 0)\n",
        "\n",
        "\n",
        "def legnagyobb_vizsgalando_oszto(szam: int) -> int:\n",
        "  return math.ceil(math.sqrt(szam)) - 1\n",
        "\n",
        "\n",
        "def szam_osztoinak_osszege(szam: int) -> int:\n",
        "  osztok_osszege = 1\n",
        "  for lehetseges_oszto in range(2, legnagyobb_vizsgalando_oszto(szam) + 1 ):\n",
        "    if osztoja(szam, lehetseges_oszto):\n",
        "      osztok_osszege += lehetseges_oszto\n",
        "      osztok_osszege += (szam/lehetseges_oszto)\n",
        "  return osztok_osszege\n",
        "\n",
        "\n",
        "def tokeletes_e(szam: int) -> bool:\n",
        "  return szam_osztoinak_osszege(szam) == szam\n",
        "\n",
        "\n",
        "def tokeletes_szamok_keresese(meddig: int):\n",
        "  for i in range(meddig+1):\n",
        "    if tokeletes_e(i):\n",
        "      print(i)\n"
      ],
      "execution_count": null,
      "outputs": []
    },
    {
      "cell_type": "code",
      "metadata": {
        "id": "n-vISqSy8tko"
      },
      "source": [
        "tokeletes_szamok_keresese(10000)"
      ],
      "execution_count": null,
      "outputs": []
    },
    {
      "cell_type": "markdown",
      "metadata": {
        "id": "jbGxlobjApFr"
      },
      "source": [
        "A kód még mindig hibás (a refaktorálás során ekvivalens átalakításokat végeztünk), de immár van esélyünk a hibát észrevenni unit tesztek segítségével."
      ]
    },
    {
      "cell_type": "markdown",
      "metadata": {
        "id": "WlsaKtOj-6G3"
      },
      "source": [
        "**Unit tesztek**\n",
        "\n",
        "- Alapgondolat: megnézzük, hogy a függvényeink adott bementre az \"elvárt\" kimenetet adják-e.\n",
        "\n",
        "- Automatizált tesztek: tetszőlegesen sokszor futtatható, dokumentált, reprodukálható, jól elkészített unit tesztekkel a bugok és nem kívánt változások (akár interpreter viselkedésének változása is!) jelentős  része felismerhető.\n",
        "\n",
        "- Unit tesztek tipikus szerkezete: függvényhívás előkészítése (pl. szükséges objektumok példányosítása), függvény hívása, visszaadott érték ellenőrzése.\n",
        "\n",
        "- A tesztek legyenek lehetőleg egyszerűek, lehetőleg minden releváns esetet teszteljünk, a lehetséges végrehajtási utakat járjuk be.\n",
        "\n",
        "- A unit tesztek **nem garantálják** a program helyességét! (Még 100%-os lefedettség, azaz az összes lehetséges végrehajtási út bejárása esetén sem!)\n",
        "\n",
        "- A függvények gyakran egy összetett rendszer részei, a rendszeren belül \"léteznek\", azaz ahhoz, hogy el tudják végezni a kívánt műveleteket egy komplexebb környezetre (pl. adatbázisszerver, web szerver, stb.) lehet szükség. Ilyen esetkben hasznos az ún. \"mockolás\" (mocking), amellyel tudjuk ellenőrizni, például hogy egy függvény megfelelő parancsokat küld-e egy adatbázisszervernek anélkül, hogy létrehoznánk az adatbázisszervert. \n",
        "\n",
        "- Unit teszetelésre több keretrendszer is létezik (az érdeklődőknek ajánljuk ezek tanulmányozását), a következő példák csak a tesztek jellegét illusztrálják egyszerű esetekben, nem mutatják be egy konkrét keretrendszer használatát."
      ]
    },
    {
      "cell_type": "code",
      "metadata": {
        "id": "S5fE0jFz9HPY"
      },
      "source": [
        "def test_osztoja_10_5():\n",
        "  szam = 10\n",
        "  lehetseges_oszto = 5\n",
        "  elvart_valasz = True\n",
        "\n",
        "  kapott_valasz = osztoja(szam, lehetseges_oszto)\n",
        "\n",
        "  assert kapott_valasz == elvart_valasz\n",
        "\n",
        "def test_osztoja_10_3():\n",
        "  szam = 10\n",
        "  lehetseges_oszto = 3\n",
        "  elvart_valasz = False\n",
        "\n",
        "  kapott_valasz = osztoja(szam, lehetseges_oszto)\n",
        "  assert kapott_valasz == elvart_valasz"
      ],
      "execution_count": null,
      "outputs": []
    },
    {
      "cell_type": "code",
      "metadata": {
        "id": "aGCE_fgQ9jwr"
      },
      "source": [
        "test_osztoja_10_5()"
      ],
      "execution_count": null,
      "outputs": []
    },
    {
      "cell_type": "code",
      "metadata": {
        "id": "d6YXI0jrDy18"
      },
      "source": [
        "test_osztoja_10_3()"
      ],
      "execution_count": null,
      "outputs": []
    },
    {
      "cell_type": "code",
      "metadata": {
        "id": "6BAyFtbX9smd"
      },
      "source": [
        "def test_legnagyobb_vizsgalando_oszto_10():\n",
        "  szam = 10\n",
        "  elvart_valasz = 3\n",
        "\n",
        "  kapott_valasz = legnagyobb_vizsgalando_oszto(szam)\n",
        "  \n",
        "  assert kapott_valasz == elvart_valasz"
      ],
      "execution_count": null,
      "outputs": []
    },
    {
      "cell_type": "code",
      "metadata": {
        "id": "PDS_vdHwCQdz"
      },
      "source": [
        "test_legnagyobb_vizsgalando_oszto_10()"
      ],
      "execution_count": null,
      "outputs": []
    },
    {
      "cell_type": "code",
      "metadata": {
        "id": "M7HurWXDCSZB"
      },
      "source": [
        "def test_legnagyobb_vizsgalando_oszto_25():\n",
        "  szam = 25\n",
        "  elvart_valasz = 5\n",
        "\n",
        "  kapott_valasz = legnagyobb_vizsgalando_oszto(szam)\n",
        "  \n",
        "  assert kapott_valasz == elvart_valasz"
      ],
      "execution_count": null,
      "outputs": []
    },
    {
      "cell_type": "code",
      "metadata": {
        "id": "gN8dBV__CZGi"
      },
      "source": [
        "test_legnagyobb_vizsgalando_oszto_25()"
      ],
      "execution_count": null,
      "outputs": []
    },
    {
      "cell_type": "code",
      "metadata": {
        "id": "f7xl1nZ3Cbb4"
      },
      "source": [
        "legnagyobb_vizsgalando_oszto(25)"
      ],
      "execution_count": null,
      "outputs": []
    },
    {
      "cell_type": "code",
      "metadata": {
        "id": "FQUCEgP3D5L3"
      },
      "source": [
        "def test_szam_osztoinak_osszege_6():\n",
        "  szam = 6\n",
        "  elvart_valasz = 6\n",
        "\n",
        "  kapott_valasz = szam_osztoinak_osszege(szam)\n",
        "\n",
        "  assert kapott_valasz == elvart_valasz"
      ],
      "execution_count": null,
      "outputs": []
    },
    {
      "cell_type": "code",
      "metadata": {
        "id": "mnDypNRrEeQ-"
      },
      "source": [
        "def test_szam_osztoinak_osszege_25():\n",
        "  szam = 25\n",
        "  elvart_valasz = 6\n",
        "\n",
        "  kapott_valasz = szam_osztoinak_osszege(szam)\n",
        "\n",
        "  assert kapott_valasz == elvart_valasz"
      ],
      "execution_count": null,
      "outputs": []
    },
    {
      "cell_type": "code",
      "metadata": {
        "id": "mQME6ELmEktb"
      },
      "source": [
        "test_szam_osztoinak_osszege_6()"
      ],
      "execution_count": null,
      "outputs": []
    },
    {
      "cell_type": "code",
      "metadata": {
        "id": "Gyhyd-W4EoGM"
      },
      "source": [
        "test_szam_osztoinak_osszege_25()"
      ],
      "execution_count": null,
      "outputs": []
    },
    {
      "cell_type": "code",
      "metadata": {
        "id": "HQFCnhmkGYa2"
      },
      "source": [
        "szam_osztoinak_osszege(25)"
      ],
      "execution_count": null,
      "outputs": []
    },
    {
      "cell_type": "markdown",
      "metadata": {
        "id": "jjzdmbFpFfIy"
      },
      "source": [
        "Javítjuk a legnagyobb viszgálandó osztót meghatározó kódot."
      ]
    },
    {
      "cell_type": "code",
      "metadata": {
        "id": "mh-EudkeEvzc"
      },
      "source": [
        "def legnagyobb_vizsgalando_oszto(szam: int) -> int:\n",
        "  return math.floor(math.sqrt(szam)) "
      ],
      "execution_count": null,
      "outputs": []
    },
    {
      "cell_type": "code",
      "metadata": {
        "id": "Xzp6yV40Flsc"
      },
      "source": [
        "test_legnagyobb_vizsgalando_oszto_10()\n",
        "test_legnagyobb_vizsgalando_oszto_25()"
      ],
      "execution_count": null,
      "outputs": []
    },
    {
      "cell_type": "code",
      "metadata": {
        "id": "OeSnUK8dFzAs"
      },
      "source": [
        "test_szam_osztoinak_osszege_6()"
      ],
      "execution_count": null,
      "outputs": []
    },
    {
      "cell_type": "code",
      "metadata": {
        "id": "70MXxQS-GGfT"
      },
      "source": [
        "test_szam_osztoinak_osszege_25()"
      ],
      "execution_count": null,
      "outputs": []
    },
    {
      "cell_type": "code",
      "metadata": {
        "id": "o8pjrsGiGI6C"
      },
      "source": [
        "szam_osztoinak_osszege(25)"
      ],
      "execution_count": null,
      "outputs": []
    },
    {
      "cell_type": "markdown",
      "metadata": {
        "id": "gRV-iOpSGl1K"
      },
      "source": [
        "A hiba az, hogy amikor egy négyzetszám osztóit vizsgáljuk, a szám gyökét kétszer is hozzáadjuk az osztók összegéhez. Javítjuk az osztók összegét meghatározó kódot is."
      ]
    },
    {
      "cell_type": "code",
      "metadata": {
        "id": "rCUyPC_fGUiL"
      },
      "source": [
        "def szam_osztoinak_osszege(szam: int) -> int:\n",
        "  osztok_osszege = 1\n",
        "  for lehetseges_oszto in range(2, legnagyobb_vizsgalando_oszto(szam) + 1 ):\n",
        "    if osztoja(szam, lehetseges_oszto):\n",
        "      osztok_osszege += lehetseges_oszto\n",
        "      masik_oszto = (szam/lehetseges_oszto)\n",
        "      if masik_oszto != lehetseges_oszto:\n",
        "        osztok_osszege += masik_oszto\n",
        "  return osztok_osszege"
      ],
      "execution_count": null,
      "outputs": []
    },
    {
      "cell_type": "code",
      "metadata": {
        "id": "-bcnpEICHIw_"
      },
      "source": [
        "test_szam_osztoinak_osszege_25()"
      ],
      "execution_count": null,
      "outputs": []
    },
    {
      "cell_type": "markdown",
      "metadata": {
        "id": "Bhn0ZUnIHQCw"
      },
      "source": [
        "A biztonság kedvéért lefuttatjuk az összes unit tesztünket, hogy kiderüljön, nem rontottunk-e el valami mást a javítások közben."
      ]
    },
    {
      "cell_type": "code",
      "metadata": {
        "id": "QqRUUYagHq8a"
      },
      "source": [
        "test_osztoja_10_3()"
      ],
      "execution_count": null,
      "outputs": []
    },
    {
      "cell_type": "code",
      "metadata": {
        "id": "TJvrWstcHjfk"
      },
      "source": [
        "test_osztoja_10_5()"
      ],
      "execution_count": null,
      "outputs": []
    },
    {
      "cell_type": "code",
      "metadata": {
        "id": "bk8GOAT7HczC"
      },
      "source": [
        "test_legnagyobb_vizsgalando_oszto_10()"
      ],
      "execution_count": null,
      "outputs": []
    },
    {
      "cell_type": "code",
      "metadata": {
        "id": "FQO7FmNJHh85"
      },
      "source": [
        "test_legnagyobb_vizsgalando_oszto_25()"
      ],
      "execution_count": null,
      "outputs": []
    },
    {
      "cell_type": "code",
      "metadata": {
        "id": "2R_r3EtuHOM0"
      },
      "source": [
        "test_szam_osztoinak_osszege_6()"
      ],
      "execution_count": null,
      "outputs": []
    },
    {
      "cell_type": "code",
      "metadata": {
        "id": "CojzFOZ_HMa8"
      },
      "source": [
        "test_szam_osztoinak_osszege_25()"
      ],
      "execution_count": null,
      "outputs": []
    },
    {
      "cell_type": "markdown",
      "metadata": {
        "id": "qJqP6KR8HzgS"
      },
      "source": [
        "Ami a megtalált tökéletes számokat illeti, a hiba javításának nincs hatása az eredményre:"
      ]
    },
    {
      "cell_type": "code",
      "metadata": {
        "id": "aNKXjEzkHrn5"
      },
      "source": [
        "tokeletes_szamok_keresese(10000)"
      ],
      "execution_count": null,
      "outputs": []
    },
    {
      "cell_type": "markdown",
      "source": [
        "*Bonyolult függvény tesztelése (mocking)* - egy egyszerű példén szemléltetve\n",
        "\n",
        "Azt fogjuk tesztelni, hogy amellett a feltevés mellett, hogy a tokeletes_e függvény helyesen működik, vajon helyes eredményt ad-e a tokeltes_szamok_keresese nevű függvény, azaz kiirja-e azokat a szamokat, amelyek a tökeltes_e függvény szerint tökéletesek.\n",
        "\n",
        "Ugyanilyen elven tudunk függvényeket tesztelni, ha azok egy komplex rendszer részei.\n",
        "\n",
        "Most valójában az ún. mockingot implementáljuk elemi eszközökkel, a mocking keretrendszereket \"kikerülve\"."
      ],
      "metadata": {
        "id": "zd0mEcrFcOVn"
      }
    },
    {
      "cell_type": "code",
      "metadata": {
        "id": "kGYVBDoQIEgk"
      },
      "source": [
        "def tokeletes_szamok_keresese(meddig: int, \n",
        "                              dontesi_fv = tokeletes_e, output_fv = print):\n",
        "  for i in range(meddig+1):\n",
        "    if dontesi_fv(i):\n",
        "      output_fv(i)"
      ],
      "execution_count": null,
      "outputs": []
    },
    {
      "cell_type": "code",
      "source": [
        "tokeletes_szamok_keresese(10000)"
      ],
      "metadata": {
        "id": "bLQe-I04cx_D"
      },
      "execution_count": null,
      "outputs": []
    },
    {
      "cell_type": "code",
      "source": [
        "def fake_dontesi_fv(szam):\n",
        "  return (szam==3) or (szam==6)"
      ],
      "metadata": {
        "id": "jwnKgMO5c1hy"
      },
      "execution_count": null,
      "outputs": []
    },
    {
      "cell_type": "code",
      "source": [
        "class OutputGyujto:\n",
        "  def __init__(self):\n",
        "    self.output = []\n",
        "\n",
        "  def fake_output_fv(self, str):\n",
        "    self.output.append(str)"
      ],
      "metadata": {
        "id": "NawcwciLfRI_"
      },
      "execution_count": null,
      "outputs": []
    },
    {
      "cell_type": "code",
      "source": [
        "def test_tokeletes_szamok_keresese():\n",
        "  out = OutputGyujto()  \n",
        "  \n",
        "  tokeletes_szamok_keresese(10000, \n",
        "                            dontesi_fv = fake_dontesi_fv,\n",
        "                            output_fv = out.fake_output_fv)\n",
        "  \n",
        "  assert 3 in out.output\n",
        "  assert 6 in out.output\n",
        "  assert 7 not in out.output"
      ],
      "metadata": {
        "id": "vHHSkijudajW"
      },
      "execution_count": null,
      "outputs": []
    },
    {
      "cell_type": "code",
      "source": [
        "test_tokeletes_szamok_keresese()"
      ],
      "metadata": {
        "id": "N9MSVCPLe-oi"
      },
      "execution_count": null,
      "outputs": []
    },
    {
      "cell_type": "code",
      "source": [
        ""
      ],
      "metadata": {
        "id": "V_k1bZgefB7Z"
      },
      "execution_count": null,
      "outputs": []
    }
  ]
}