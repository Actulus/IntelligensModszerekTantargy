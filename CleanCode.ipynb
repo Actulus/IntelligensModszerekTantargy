{
  "nbformat": 4,
  "nbformat_minor": 0,
  "metadata": {
    "colab": {
      "name": "CleanCode.ipynb",
      "provenance": [],
      "collapsed_sections": [],
      "authorship_tag": "ABX9TyNlC9tnbeTFRcilNIiWWnnU",
      "include_colab_link": true
    },
    "kernelspec": {
      "name": "python3",
      "display_name": "Python 3"
    }
  },
  "cells": [
    {
      "cell_type": "markdown",
      "metadata": {
        "id": "view-in-github",
        "colab_type": "text"
      },
      "source": [
        "<a href=\"https://colab.research.google.com/github/kr7/IntelligensModszerekTantargy/blob/main/CleanCode.ipynb\" target=\"_parent\"><img src=\"https://colab.research.google.com/assets/colab-badge.svg\" alt=\"Open In Colab\"/></a>"
      ]
    },
    {
      "cell_type": "markdown",
      "metadata": {
        "id": "jBvHO5h4xnEg"
      },
      "source": [
        "**Clean Code és Unit tesztek**"
      ]
    },
    {
      "cell_type": "markdown",
      "metadata": {
        "id": "EIPguEuuxxB7"
      },
      "source": [
        "**Clean Code** \n",
        "\n",
        "- *A kód olvasásával és írásával töltött idő aránya jelentősen több, mint 10:1-hez, az olvasás javára* (Robert C. Martin: Clean Code)\n",
        "\n",
        "- Azt szeretnénk, hogy általunk írt kód jól olvasható, könnyen értelmezhető legyen. Miért? \n",
        "\n",
        "  - a kód helyességének ellenőrzése, biztosítása\n",
        "\n",
        "  - hosszú távú karbantarthatóság\n",
        "\n",
        "- Kerüljük a nehezen értelmezhető, nem-intuitív, akár félrevezető kódrészeket. Az alábbiak közül melyik olvasható jobban?\n",
        "    \n",
        "\n",
        "          legkondi_allapota = \"off\" or legkondi_allapota\n",
        "          \n",
        "          legkondi_allapota = legkondi_allapota or \"off\"\n",
        "         \n",
        "          if legkondi_allapota is None:\n",
        "            legkondi_allapota = \"off\"\n",
        "\n",
        "              \n",
        "          lista.append(elem)\n",
        "\n",
        "          lista = lista + [elem] \n",
        "\n",
        "          \n",
        "\n",
        "\n",
        "- Elnevezések: használjunk beszédes elnevezéseket, olyan elővigyázatossággal járjunk el a változók, függvények, osztályok, példányok, stb. elnevezésekor, mintha a saját gyerekünknek adnánk nevet - Elon Musk ellenpélda! :-) \n",
        "\n",
        "- Amit csak lehet, nevezzünk el, ne használjunk \"mágikus konstansokat\", hanem nevezzük el a számokat\n",
        "\n",
        "\n",
        "          k = 2 * 31.415\n",
        "          \n",
        "          kor_sugara = 10\n",
        "          PI = 3.1415\n",
        "          kor_kerulete = 2 * PI * kor_sugara\n",
        "          \n",
        "\n",
        "          FEHER = 0\n",
        "          FEKETE = 1\n",
        "          ...\n",
        "          mezo_allapota = FEHER\n",
        "\n",
        "\n",
        "- Rövid, áttekinthető függvényeket, osztályokat írjunk, egy függvény/osztály egy dolgot csináljon! Inkább több rövid (és jól elnevezett függvényt/osztályt) írjunk, mint kevés hosszú, nehezen áttekinthető függvényt/osztályt!\n",
        "\n",
        "- A logikailag összetartozó \"dolgok\" egymáshoz közel legyenek a kódban, tagoljuk a kódot (üres sorok, szóközök)!\n",
        "\n",
        "- Ne használjunk túl hosszú sorokat, sokszorosan egymásba ágyazott zárójeleket!\n",
        "\n",
        "- Használjunk típusannotációkat!\n",
        "\n",
        "- Kommentek: főleg \"miért\"-re fókuszáljon, a \"mit\"/\"hogyan\" legyen érthető a kódból (\"self-documenting code\").\n",
        "\n",
        "- Hibák kezelése: \n",
        "\n",
        "  - legyünk \"őszinték\", ne hagyjuk figyelmen kívül al hibát (\"a legkissebb hibád, megbosszúlja önmagát\" - Máté Péter: Most élsz),\n",
        "  \n",
        "  - használjunk (saját) Exception-öket és beszédes hibaüzeneteket!\n",
        "\n",
        "- Használjunk unit teszteket (erről kicsit részletesebben lesz szó a következő szakaszban)!\n",
        "\n",
        "- ... (a felsorolás még sokáig folytatható, ld. Robert C. Martin: Clean Code c. könyvét) ...\n",
        "\n",
        "\n",
        "\n"
      ]
    },
    {
      "cell_type": "markdown",
      "metadata": {
        "id": "NqrJtshB47_c"
      },
      "source": [
        "**Példa**\n",
        "\n",
        "A legelső órán láttunk egy ún. *tökéletes számokat* kereső kódot, ami egyébként hibás, de a hibát (ebben az alakban) nehéz megtalálni. Ezért most refaktoráljuk a kódot. (Emlékeztetőül: tökéletes számnak nevezünk egy számot akkor, ha az osztóinak összege, önmagát nem számítva, megegyezik a számmal. Például: 6 tökéletes, hiszen 1+2+3=6.)"
      ]
    },
    {
      "cell_type": "code",
      "metadata": {
        "colab": {
          "base_uri": "https://localhost:8080/"
        },
        "id": "XSKx7M1IzBMN",
        "outputId": "77c3d2d2-5355-40f5-fc33-0e37de659311"
      },
      "source": [
        "import math\n",
        "\n",
        "def tokeletes_e(szam):\n",
        "  osztok_osszege = 1\n",
        "  for x in range(2,math.ceil(math.sqrt(szam))):\n",
        "    if szam % x == 0:\n",
        "      osztok_osszege += x\n",
        "      osztok_osszege += (szam/x)\n",
        "  if osztok_osszege == szam:\n",
        "    return True\n",
        "  else:\n",
        "    return False\n",
        "\n",
        "for i in range(6,10000+1):\n",
        "  if tokeletes_e(i):\n",
        "    print(i)"
      ],
      "execution_count": null,
      "outputs": [
        {
          "output_type": "stream",
          "text": [
            "6\n",
            "28\n",
            "496\n",
            "8128\n"
          ],
          "name": "stdout"
        }
      ]
    },
    {
      "cell_type": "code",
      "metadata": {
        "id": "9zZqgIp86AwL"
      },
      "source": [
        "def osztoja(szam: int, lehetseges_oszto: int) -> bool:\n",
        "  return (szam % lehetseges_oszto == 0)\n",
        "\n",
        "\n",
        "def legnagyobb_vizsgalando_oszto(szam: int) -> int:\n",
        "  return math.ceil(math.sqrt(szam)) - 1\n",
        "\n",
        "\n",
        "def szam_osztoinak_osszege(szam: int) -> int:\n",
        "  osztok_osszege = 1\n",
        "  for lehetseges_oszto in range(2, legnagyobb_vizsgalando_oszto(szam) + 1 ):\n",
        "    if osztoja(szam, lehetseges_oszto):\n",
        "      osztok_osszege += lehetseges_oszto\n",
        "      osztok_osszege += (szam/lehetseges_oszto)\n",
        "  return osztok_osszege\n",
        "\n",
        "\n",
        "def tokeletes_e(szam: int) -> bool:\n",
        "  return szam_osztoinak_osszege(szam) == szam\n",
        "\n",
        "\n",
        "def tokeletes_szamok_keresese(meddig: int):\n",
        "  for i in range(meddig+1):\n",
        "    if tokeletes_e(i):\n",
        "      print(i)\n"
      ],
      "execution_count": null,
      "outputs": []
    },
    {
      "cell_type": "code",
      "metadata": {
        "colab": {
          "base_uri": "https://localhost:8080/"
        },
        "id": "n-vISqSy8tko",
        "outputId": "005784af-e04b-4b43-b128-ec4f20b0635d"
      },
      "source": [
        "tokeletes_szamok_keresese(10000)"
      ],
      "execution_count": null,
      "outputs": [
        {
          "output_type": "stream",
          "text": [
            "1\n",
            "6\n",
            "28\n",
            "496\n",
            "8128\n"
          ],
          "name": "stdout"
        }
      ]
    },
    {
      "cell_type": "markdown",
      "metadata": {
        "id": "jbGxlobjApFr"
      },
      "source": [
        "A kód még mindig hibás (a refaktorálás során ekvivalens átalakításokat végeztünk), de immár van esélyünk a hibát észrevenni unit tesztek segítségével."
      ]
    },
    {
      "cell_type": "markdown",
      "metadata": {
        "id": "WlsaKtOj-6G3"
      },
      "source": [
        "**Unit tesztek**\n",
        "\n",
        "- Alapgondolat: megnézzük, hogy a függvényeink adott bementre az \"elvárt\" kimenetet adják-e.\n",
        "\n",
        "- Automatizált tesztek: tetszőlegesen sokszor futtatható, dokumentált, reprodukálható, jól elkészített unit tesztekkel a bugok és nem kívánt változások (akár interpreter viselkedésének változása is!) jelentős  része felismerhető.\n",
        "\n",
        "- Unit tesztek tipikus szerkezete: függvényhívás előkészítése (pl. szükséges objektumok példányosítása), függvény hívása, visszaadott érték ellenőrzése.\n",
        "\n",
        "- A tesztek legyenek lehetőleg egyszerűek, lehetőleg minden releváns esetet teszteljünk, a lehetséges végrehajtási utakat járjuk be.\n",
        "\n",
        "- A unit tesztek **nem garantálják** a program helyességét! (Még 100%-os lefedettség, azaz az összes lehetséges végrehajtási út bejárása esetén sem!)\n",
        "\n",
        "- A függvények gyakran egy összetett rendszer részei, a rendszeren belül \"léteznek\", azaz ahhoz, hogy el tudják végezni a kívánt műveleteket egy komplexebb környezetre (pl. adatbázisszerver, web szerver, stb.) lehet szükség. Ilyen esetkben hasznos az ún. \"mockolás\" (mocking), amellyel tudjuk ellenőrizni, például hogy egy függvény megfelelő parancsokat küld-e egy adatbázisszervernek anélkül, hogy létrehoznánk az adatbázisszervert. \n",
        "\n",
        "- Unit teszetelésre több keretrendszer is létezik (az érdeklődőknek ajánljuk ezek tanulmányozását), a következő példák csak a tesztek jellegét illusztrálják egyszerű esetekben, nem mutatják be egy konkrét keretrendszer használatát."
      ]
    },
    {
      "cell_type": "code",
      "metadata": {
        "id": "S5fE0jFz9HPY"
      },
      "source": [
        "def test_osztoja_10_5():\n",
        "  szam = 10\n",
        "  lehetseges_oszto = 5\n",
        "  elvart_valasz = True\n",
        "\n",
        "  kapott_valasz = osztoja(szam, lehetseges_oszto)\n",
        "\n",
        "  assert kapott_valasz == elvart_valasz\n",
        "\n",
        "def test_osztoja_10_3():\n",
        "  szam = 10\n",
        "  lehetseges_oszto = 3\n",
        "  elvart_valasz = False\n",
        "\n",
        "  kapott_valasz = osztoja(szam, lehetseges_oszto)\n",
        "  assert kapott_valasz == elvart_valasz"
      ],
      "execution_count": null,
      "outputs": []
    },
    {
      "cell_type": "code",
      "metadata": {
        "id": "aGCE_fgQ9jwr"
      },
      "source": [
        "test_osztoja_10_5()"
      ],
      "execution_count": null,
      "outputs": []
    },
    {
      "cell_type": "code",
      "metadata": {
        "id": "d6YXI0jrDy18"
      },
      "source": [
        "test_osztoja_10_3()"
      ],
      "execution_count": null,
      "outputs": []
    },
    {
      "cell_type": "code",
      "metadata": {
        "id": "6BAyFtbX9smd"
      },
      "source": [
        "def test_legnagyobb_vizsgalando_oszto_10():\n",
        "  szam = 10\n",
        "  elvart_valasz = 3\n",
        "\n",
        "  kapott_valasz = legnagyobb_vizsgalando_oszto(szam)\n",
        "  \n",
        "  assert kapott_valasz == elvart_valasz"
      ],
      "execution_count": null,
      "outputs": []
    },
    {
      "cell_type": "code",
      "metadata": {
        "id": "PDS_vdHwCQdz"
      },
      "source": [
        "test_legnagyobb_vizsgalando_oszto_10()"
      ],
      "execution_count": null,
      "outputs": []
    },
    {
      "cell_type": "code",
      "metadata": {
        "id": "M7HurWXDCSZB"
      },
      "source": [
        "def test_legnagyobb_vizsgalando_oszto_25():\n",
        "  szam = 25\n",
        "  elvart_valasz = 5\n",
        "\n",
        "  kapott_valasz = legnagyobb_vizsgalando_oszto(szam)\n",
        "  \n",
        "  assert kapott_valasz == elvart_valasz"
      ],
      "execution_count": null,
      "outputs": []
    },
    {
      "cell_type": "code",
      "metadata": {
        "colab": {
          "base_uri": "https://localhost:8080/",
          "height": 248
        },
        "id": "gN8dBV__CZGi",
        "outputId": "104ce327-9d57-4a7e-d8ac-c324b46aed84"
      },
      "source": [
        "test_legnagyobb_vizsgalando_oszto_25()"
      ],
      "execution_count": null,
      "outputs": [
        {
          "output_type": "error",
          "ename": "AssertionError",
          "evalue": "ignored",
          "traceback": [
            "\u001b[0;31m---------------------------------------------------------------------------\u001b[0m",
            "\u001b[0;31mAssertionError\u001b[0m                            Traceback (most recent call last)",
            "\u001b[0;32m<ipython-input-10-4e21f976cdae>\u001b[0m in \u001b[0;36m<module>\u001b[0;34m()\u001b[0m\n\u001b[0;32m----> 1\u001b[0;31m \u001b[0mtest_legnagyobb_vizsgalando_oszto_25\u001b[0m\u001b[0;34m(\u001b[0m\u001b[0;34m)\u001b[0m\u001b[0;34m\u001b[0m\u001b[0;34m\u001b[0m\u001b[0m\n\u001b[0m",
            "\u001b[0;32m<ipython-input-9-2eafd17722cc>\u001b[0m in \u001b[0;36mtest_legnagyobb_vizsgalando_oszto_25\u001b[0;34m()\u001b[0m\n\u001b[1;32m      5\u001b[0m   \u001b[0mkapott_valasz\u001b[0m \u001b[0;34m=\u001b[0m \u001b[0mlegnagyobb_vizsgalando_oszto\u001b[0m\u001b[0;34m(\u001b[0m\u001b[0mszam\u001b[0m\u001b[0;34m)\u001b[0m\u001b[0;34m\u001b[0m\u001b[0;34m\u001b[0m\u001b[0m\n\u001b[1;32m      6\u001b[0m \u001b[0;34m\u001b[0m\u001b[0m\n\u001b[0;32m----> 7\u001b[0;31m   \u001b[0;32massert\u001b[0m \u001b[0mkapott_valasz\u001b[0m \u001b[0;34m==\u001b[0m \u001b[0melvart_valasz\u001b[0m\u001b[0;34m\u001b[0m\u001b[0;34m\u001b[0m\u001b[0m\n\u001b[0m",
            "\u001b[0;31mAssertionError\u001b[0m: "
          ]
        }
      ]
    },
    {
      "cell_type": "code",
      "metadata": {
        "colab": {
          "base_uri": "https://localhost:8080/"
        },
        "id": "f7xl1nZ3Cbb4",
        "outputId": "31ae3d4d-2ba1-4b3d-b313-ace718d749c6"
      },
      "source": [
        "legnagyobb_vizsgalando_oszto(25)"
      ],
      "execution_count": null,
      "outputs": [
        {
          "output_type": "execute_result",
          "data": {
            "text/plain": [
              "4"
            ]
          },
          "metadata": {
            "tags": []
          },
          "execution_count": 11
        }
      ]
    },
    {
      "cell_type": "code",
      "metadata": {
        "id": "FQUCEgP3D5L3"
      },
      "source": [
        "def test_szam_osztoinak_osszege_6():\n",
        "  szam = 6\n",
        "  elvart_valasz = 6\n",
        "\n",
        "  kapott_valasz = szam_osztoinak_osszege(szam)\n",
        "\n",
        "  assert kapott_valasz == elvart_valasz"
      ],
      "execution_count": null,
      "outputs": []
    },
    {
      "cell_type": "code",
      "metadata": {
        "id": "mnDypNRrEeQ-"
      },
      "source": [
        "def test_szam_osztoinak_osszege_25():\n",
        "  szam = 25\n",
        "  elvart_valasz = 6\n",
        "\n",
        "  kapott_valasz = szam_osztoinak_osszege(szam)\n",
        "\n",
        "  assert kapott_valasz == elvart_valasz"
      ],
      "execution_count": null,
      "outputs": []
    },
    {
      "cell_type": "code",
      "metadata": {
        "id": "mQME6ELmEktb"
      },
      "source": [
        "test_szam_osztoinak_osszege_6()"
      ],
      "execution_count": null,
      "outputs": []
    },
    {
      "cell_type": "code",
      "metadata": {
        "colab": {
          "base_uri": "https://localhost:8080/",
          "height": 248
        },
        "id": "Gyhyd-W4EoGM",
        "outputId": "0de091ac-bcc0-42ca-a414-ace77e8dd2f0"
      },
      "source": [
        "test_szam_osztoinak_osszege_25()"
      ],
      "execution_count": null,
      "outputs": [
        {
          "output_type": "error",
          "ename": "AssertionError",
          "evalue": "ignored",
          "traceback": [
            "\u001b[0;31m---------------------------------------------------------------------------\u001b[0m",
            "\u001b[0;31mAssertionError\u001b[0m                            Traceback (most recent call last)",
            "\u001b[0;32m<ipython-input-15-9c5e2060c132>\u001b[0m in \u001b[0;36m<module>\u001b[0;34m()\u001b[0m\n\u001b[0;32m----> 1\u001b[0;31m \u001b[0mtest_szam_osztoinak_osszege_25\u001b[0m\u001b[0;34m(\u001b[0m\u001b[0;34m)\u001b[0m\u001b[0;34m\u001b[0m\u001b[0;34m\u001b[0m\u001b[0m\n\u001b[0m",
            "\u001b[0;32m<ipython-input-13-5f7381e8e52b>\u001b[0m in \u001b[0;36mtest_szam_osztoinak_osszege_25\u001b[0;34m()\u001b[0m\n\u001b[1;32m      5\u001b[0m   \u001b[0mkapott_valasz\u001b[0m \u001b[0;34m=\u001b[0m \u001b[0mszam_osztoinak_osszege\u001b[0m\u001b[0;34m(\u001b[0m\u001b[0mszam\u001b[0m\u001b[0;34m)\u001b[0m\u001b[0;34m\u001b[0m\u001b[0;34m\u001b[0m\u001b[0m\n\u001b[1;32m      6\u001b[0m \u001b[0;34m\u001b[0m\u001b[0m\n\u001b[0;32m----> 7\u001b[0;31m   \u001b[0;32massert\u001b[0m \u001b[0mkapott_valasz\u001b[0m \u001b[0;34m==\u001b[0m \u001b[0melvart_valasz\u001b[0m\u001b[0;34m\u001b[0m\u001b[0;34m\u001b[0m\u001b[0m\n\u001b[0m",
            "\u001b[0;31mAssertionError\u001b[0m: "
          ]
        }
      ]
    },
    {
      "cell_type": "code",
      "metadata": {
        "colab": {
          "base_uri": "https://localhost:8080/"
        },
        "id": "HQFCnhmkGYa2",
        "outputId": "b1ed1e51-6d54-4bb0-ee18-b57d618cafb1"
      },
      "source": [
        "szam_osztoinak_osszege(25)"
      ],
      "execution_count": null,
      "outputs": [
        {
          "output_type": "execute_result",
          "data": {
            "text/plain": [
              "1"
            ]
          },
          "metadata": {
            "tags": []
          },
          "execution_count": 16
        }
      ]
    },
    {
      "cell_type": "markdown",
      "metadata": {
        "id": "jjzdmbFpFfIy"
      },
      "source": [
        "Javítjuk a legnagyobb viszgálandó osztót meghatározó kódot."
      ]
    },
    {
      "cell_type": "code",
      "metadata": {
        "id": "mh-EudkeEvzc"
      },
      "source": [
        "def legnagyobb_vizsgalando_oszto(szam: int) -> int:\n",
        "  return math.floor(math.sqrt(szam)) "
      ],
      "execution_count": null,
      "outputs": []
    },
    {
      "cell_type": "code",
      "metadata": {
        "id": "Xzp6yV40Flsc"
      },
      "source": [
        "test_legnagyobb_vizsgalando_oszto_10()\n",
        "test_legnagyobb_vizsgalando_oszto_25()"
      ],
      "execution_count": null,
      "outputs": []
    },
    {
      "cell_type": "code",
      "metadata": {
        "id": "OeSnUK8dFzAs"
      },
      "source": [
        "test_szam_osztoinak_osszege_6()"
      ],
      "execution_count": null,
      "outputs": []
    },
    {
      "cell_type": "code",
      "metadata": {
        "colab": {
          "base_uri": "https://localhost:8080/",
          "height": 248
        },
        "id": "70MXxQS-GGfT",
        "outputId": "9383fbb0-4568-4e3f-9e1c-fb042fbd1dec"
      },
      "source": [
        "test_szam_osztoinak_osszege_25()"
      ],
      "execution_count": null,
      "outputs": [
        {
          "output_type": "error",
          "ename": "AssertionError",
          "evalue": "ignored",
          "traceback": [
            "\u001b[0;31m---------------------------------------------------------------------------\u001b[0m",
            "\u001b[0;31mAssertionError\u001b[0m                            Traceback (most recent call last)",
            "\u001b[0;32m<ipython-input-20-9c5e2060c132>\u001b[0m in \u001b[0;36m<module>\u001b[0;34m()\u001b[0m\n\u001b[0;32m----> 1\u001b[0;31m \u001b[0mtest_szam_osztoinak_osszege_25\u001b[0m\u001b[0;34m(\u001b[0m\u001b[0;34m)\u001b[0m\u001b[0;34m\u001b[0m\u001b[0;34m\u001b[0m\u001b[0m\n\u001b[0m",
            "\u001b[0;32m<ipython-input-13-5f7381e8e52b>\u001b[0m in \u001b[0;36mtest_szam_osztoinak_osszege_25\u001b[0;34m()\u001b[0m\n\u001b[1;32m      5\u001b[0m   \u001b[0mkapott_valasz\u001b[0m \u001b[0;34m=\u001b[0m \u001b[0mszam_osztoinak_osszege\u001b[0m\u001b[0;34m(\u001b[0m\u001b[0mszam\u001b[0m\u001b[0;34m)\u001b[0m\u001b[0;34m\u001b[0m\u001b[0;34m\u001b[0m\u001b[0m\n\u001b[1;32m      6\u001b[0m \u001b[0;34m\u001b[0m\u001b[0m\n\u001b[0;32m----> 7\u001b[0;31m   \u001b[0;32massert\u001b[0m \u001b[0mkapott_valasz\u001b[0m \u001b[0;34m==\u001b[0m \u001b[0melvart_valasz\u001b[0m\u001b[0;34m\u001b[0m\u001b[0;34m\u001b[0m\u001b[0m\n\u001b[0m",
            "\u001b[0;31mAssertionError\u001b[0m: "
          ]
        }
      ]
    },
    {
      "cell_type": "code",
      "metadata": {
        "colab": {
          "base_uri": "https://localhost:8080/"
        },
        "id": "o8pjrsGiGI6C",
        "outputId": "ef46907a-c7c1-417b-83c0-0a5a251c76f2"
      },
      "source": [
        "szam_osztoinak_osszege(25)"
      ],
      "execution_count": null,
      "outputs": [
        {
          "output_type": "execute_result",
          "data": {
            "text/plain": [
              "11.0"
            ]
          },
          "metadata": {
            "tags": []
          },
          "execution_count": 21
        }
      ]
    },
    {
      "cell_type": "markdown",
      "metadata": {
        "id": "gRV-iOpSGl1K"
      },
      "source": [
        "A hiba az, hogy amikor egy négyzetszám osztóit vizsgáljuk, a szám gyökét kétszer is hozzáadjuk az osztók összegéhez. Javítjuk az osztók összegét meghatározó kódot is."
      ]
    },
    {
      "cell_type": "code",
      "metadata": {
        "id": "rCUyPC_fGUiL"
      },
      "source": [
        "def szam_osztoinak_osszege(szam: int) -> int:\n",
        "  osztok_osszege = 1\n",
        "  for lehetseges_oszto in range(2, legnagyobb_vizsgalando_oszto(szam) + 1 ):\n",
        "    if osztoja(szam, lehetseges_oszto):\n",
        "      osztok_osszege += lehetseges_oszto\n",
        "      masik_oszto = (szam/lehetseges_oszto)\n",
        "      if masik_oszto != lehetseges_oszto:\n",
        "        osztok_osszege += masik_oszto\n",
        "  return osztok_osszege"
      ],
      "execution_count": null,
      "outputs": []
    },
    {
      "cell_type": "code",
      "metadata": {
        "id": "-bcnpEICHIw_"
      },
      "source": [
        "test_szam_osztoinak_osszege_25()"
      ],
      "execution_count": null,
      "outputs": []
    },
    {
      "cell_type": "markdown",
      "metadata": {
        "id": "Bhn0ZUnIHQCw"
      },
      "source": [
        "A biztonság kedvéért lefuttatjuk az összes unit tesztünket, hogy kiderüljön, nem rontottunk-e el valami mást a javítások közben."
      ]
    },
    {
      "cell_type": "code",
      "metadata": {
        "id": "QqRUUYagHq8a"
      },
      "source": [
        "test_osztoja_10_3()"
      ],
      "execution_count": null,
      "outputs": []
    },
    {
      "cell_type": "code",
      "metadata": {
        "id": "TJvrWstcHjfk"
      },
      "source": [
        "test_osztoja_10_5()"
      ],
      "execution_count": null,
      "outputs": []
    },
    {
      "cell_type": "code",
      "metadata": {
        "id": "bk8GOAT7HczC"
      },
      "source": [
        "test_legnagyobb_vizsgalando_oszto_10()"
      ],
      "execution_count": null,
      "outputs": []
    },
    {
      "cell_type": "code",
      "metadata": {
        "id": "FQO7FmNJHh85"
      },
      "source": [
        "test_legnagyobb_vizsgalando_oszto_25()"
      ],
      "execution_count": null,
      "outputs": []
    },
    {
      "cell_type": "code",
      "metadata": {
        "id": "2R_r3EtuHOM0"
      },
      "source": [
        "test_szam_osztoinak_osszege_6()"
      ],
      "execution_count": null,
      "outputs": []
    },
    {
      "cell_type": "code",
      "metadata": {
        "id": "CojzFOZ_HMa8"
      },
      "source": [
        "test_szam_osztoinak_osszege_25()"
      ],
      "execution_count": null,
      "outputs": []
    },
    {
      "cell_type": "markdown",
      "metadata": {
        "id": "qJqP6KR8HzgS"
      },
      "source": [
        "Ami a megtalált tökéletes számokat illeti, a hiba javításának nincs hatása az eredményre:"
      ]
    },
    {
      "cell_type": "code",
      "metadata": {
        "colab": {
          "base_uri": "https://localhost:8080/"
        },
        "id": "aNKXjEzkHrn5",
        "outputId": "d5126673-3c83-4c6a-a020-c2f77f46b2c0"
      },
      "source": [
        "tokeletes_szamok_keresese(10000)"
      ],
      "execution_count": null,
      "outputs": [
        {
          "output_type": "stream",
          "text": [
            "1\n",
            "6\n",
            "28\n",
            "496\n",
            "8128\n"
          ],
          "name": "stdout"
        }
      ]
    },
    {
      "cell_type": "code",
      "metadata": {
        "id": "kGYVBDoQIEgk"
      },
      "source": [
        ""
      ],
      "execution_count": null,
      "outputs": []
    }
  ]
}