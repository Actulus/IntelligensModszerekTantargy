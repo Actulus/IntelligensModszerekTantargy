{
  "nbformat": 4,
  "nbformat_minor": 0,
  "metadata": {
    "colab": {
      "name": "LegkozelebbiSzomszed.ipynb",
      "provenance": [],
      "collapsed_sections": [],
      "authorship_tag": "ABX9TyOJvhCguP1OpPkgAAnTU/mI",
      "include_colab_link": true
    },
    "kernelspec": {
      "name": "python3",
      "display_name": "Python 3"
    },
    "language_info": {
      "name": "python"
    }
  },
  "cells": [
    {
      "cell_type": "markdown",
      "metadata": {
        "id": "view-in-github",
        "colab_type": "text"
      },
      "source": [
        "<a href=\"https://colab.research.google.com/github/kr7/IntelligensModszerekTantargy/blob/main/LegkozelebbiSzomszed.ipynb\" target=\"_parent\"><img src=\"https://colab.research.google.com/assets/colab-badge.svg\" alt=\"Open In Colab\"/></a>"
      ]
    },
    {
      "cell_type": "code",
      "metadata": {
        "id": "CTsuKcLWVg_T"
      },
      "source": [
        "import pandas as pd \n",
        "import numpy as np\n",
        "import math\n",
        "\n",
        "from google.colab import widgets\n",
        "from typing import Tuple"
      ],
      "execution_count": null,
      "outputs": []
    },
    {
      "cell_type": "markdown",
      "metadata": {
        "id": "WRpcAt-11YJ2"
      },
      "source": [
        "**Adatok betöltése**"
      ]
    },
    {
      "cell_type": "code",
      "metadata": {
        "id": "b6RzzJcqfebK"
      },
      "source": [
        "data = pd.read_csv('https://archive.ics.uci.edu/ml/machine-learning-databases/iris/iris.data', header=None, names=['sepal length', 'sepal width', 'petal length', 'petal width', 'class'])"
      ],
      "execution_count": null,
      "outputs": []
    },
    {
      "cell_type": "code",
      "metadata": {
        "id": "R78d3ZWtWHG-"
      },
      "source": [
        "data"
      ],
      "execution_count": null,
      "outputs": []
    },
    {
      "cell_type": "markdown",
      "metadata": {
        "id": "_LhIhI2K1dnx"
      },
      "source": [
        "**1. feladat: adatok megjelenítése**\n",
        "\n",
        "A különböző osztálybeli példányokat különböző színekkel fogjuk megjeleníteni. \n",
        "\n",
        "(a) Jelenítse meg az osztálycímkék különböző értékeit!\n",
        "\n",
        "(b) Írjon egy függvényt, amely a stringként megadott osztálycímkéhez színek elnevezését rendeli hozzá az alábbiak szerint: \n",
        "<table>\n",
        "<tr><td><b>Függvény argumentuma</b></td><td><b>Elvárt kimenet</b></td></tr>\n",
        "<tr><td>Iris-setosa</td><td>red</td></tr>\n",
        "<tr><td>Iris-virginica</td><td>blue</td></tr>\n",
        "<tr><td>Iris-versicolor</td><td>yellow</td></tr>\n",
        "</table>\n",
        "\n",
        "(c) Hozzon létre egy listát **colors** néven, amelynek annyi eleme van, ahány példány található az adatbázisban, és a lista i-dik eleme az i-dik példány színének felel meg."
      ]
    },
    {
      "cell_type": "code",
      "metadata": {
        "id": "6cVEtaBI2yRR"
      },
      "source": [
        "...IDE JÖN A KÓD..."
      ],
      "execution_count": null,
      "outputs": []
    },
    {
      "cell_type": "code",
      "metadata": {
        "id": "J5CDJovWXT5P"
      },
      "source": [
        "...IDE JÖN A KÓD..."
      ],
      "execution_count": null,
      "outputs": []
    },
    {
      "cell_type": "code",
      "metadata": {
        "id": "Hmssb5cnCU_1"
      },
      "source": [
        "...IDE JÖN A KÓD..."
      ],
      "execution_count": null,
      "outputs": []
    },
    {
      "cell_type": "markdown",
      "metadata": {
        "id": "-JXotqit4qEL"
      },
      "source": [
        "A következő kóddal megjelenítjük az adatokat. A megjelenítés során előfordulhat, hogy a megjelenített pontok elfedik egymást, és ezért nem látszik, hogy egy adott pontban valójában hány adatpéldány található. Ezért minimális zajt adunk az adatainkhoz a megjelenítéshez (jitter)."
      ]
    },
    {
      "cell_type": "code",
      "metadata": {
        "id": "YCqMo81GWL0r"
      },
      "source": [
        "attributes = ['sepal length', 'sepal width', 'petal length', 'petal width']\n",
        "attributes_short = ['sl','sw','pl','pw']\n",
        "tb = widgets.TabBar(attributes, location='top')\n",
        "\n",
        "# jitter\n",
        "data_to_plot = data.copy(True)\n",
        "for col in attributes:\n",
        "  data_to_plot[col] = data_to_plot[col]+np.random.normal(0,0.05,len(data))\n",
        "\n",
        "for i in range(4):\n",
        "  with tb.output_to(i):\n",
        "    inner_tb = widgets.TabBar(attributes_short, location='start')\n",
        "    for j in range(4):\n",
        "      with inner_tb.output_to(j):\n",
        "        p = data_to_plot.plot.scatter(attributes[i], attributes[j],\n",
        "                                      c = colors, marker='x')\n",
        "        p.set_facecolor('lightgrey')"
      ],
      "execution_count": null,
      "outputs": []
    },
    {
      "cell_type": "markdown",
      "metadata": {
        "id": "LPur44ym5OGs"
      },
      "source": [
        "Összehasonlításként megjelenítjük az adatokat jitter nélkül is:"
      ]
    },
    {
      "cell_type": "code",
      "metadata": {
        "id": "dgZDdlpmb3Wa"
      },
      "source": [
        "attributes = ['sepal length', 'sepal width', 'petal length', 'petal width']\n",
        "attributes_short = ['sl','sw','pl','pw']\n",
        "tb = widgets.TabBar(attributes, location='top')\n",
        "for i in range(4):\n",
        "  with tb.output_to(i):\n",
        "    inner_tb = widgets.TabBar(attributes_short, location='start')\n",
        "    for j in range(4):\n",
        "      with inner_tb.output_to(j):\n",
        "        p = data.plot.scatter(attributes[i], attributes[j],\n",
        "                              c = colors, marker='x')\n",
        "        p.set_facecolor('lightgrey')"
      ],
      "execution_count": null,
      "outputs": []
    },
    {
      "cell_type": "markdown",
      "metadata": {
        "id": "PeL7b_2R5VZS"
      },
      "source": [
        "**2. feladat**\n",
        "\n",
        "Milyen különbségeket lát a jitterrel és anélkül történő megjelnítés között? Melyik ábrázolás vezethet téves következtetésekre és mikor?"
      ]
    },
    {
      "cell_type": "markdown",
      "metadata": {
        "id": "lr9ZtvDk5zWY"
      },
      "source": [
        "Adatok konvertálása np.array-be:"
      ]
    },
    {
      "cell_type": "code",
      "metadata": {
        "id": "pHbj-wB2qz4K"
      },
      "source": [
        "data_array = np.zeros( (len(data), 4 ))\n",
        "data_array[:,0] = data['sepal length']\n",
        "data_array[:,1] = data['sepal width']\n",
        "data_array[:,2] = data['petal length']\n",
        "data_array[:,3] = data['petal width']"
      ],
      "execution_count": null,
      "outputs": []
    },
    {
      "cell_type": "markdown",
      "metadata": {
        "id": "f-aCc5v27h7N"
      },
      "source": [
        "**3. feladat: osztálycímkék előkészítése**\n",
        "\n",
        "(a) Implementáljon egy függvényt, amely számokat rendel az egyes osztálycímkékhez a következőképpen:\n",
        "\n",
        "<table>\n",
        "<tr><td><b>Függvény argumentuma</b></td><td><b>Elvárt kimenet</b></td></tr>\n",
        "<tr><td>Iris-setosa</td><td>0</td></tr>\n",
        "<tr><td>Iris-virginica</td><td>1</td></tr>\n",
        "<tr><td>Iris-versicolor</td><td>2</td></tr>\n",
        "</table>\n",
        "\n",
        "(b) Hozzon létre egy numpy array-t **labels** néven, amely az egyes példányok osztálycímkéit tartalmazza számként!"
      ]
    },
    {
      "cell_type": "code",
      "metadata": {
        "id": "RBWXD8y3rS0b"
      },
      "source": [
        "...IDE JÖN A KÓD..."
      ],
      "execution_count": null,
      "outputs": []
    },
    {
      "cell_type": "code",
      "metadata": {
        "id": "zV65aXUcsGul"
      },
      "source": [
        "...IDE JÖN A KÓD..."
      ],
      "execution_count": null,
      "outputs": []
    },
    {
      "cell_type": "markdown",
      "metadata": {
        "id": "4B0IxcbO8Y5T"
      },
      "source": [
        "**4. feladat: adatok felosztása tanító adatokra és tesztadatokra**\n",
        "\n",
        "(a) Hozzon létre két numpy array-t **train_indices** és **test_indices** néven, amelyek a tanítópéldányok és tesztpéldányok sorszámait (indexeit) tartalmazza. Páros sorszámú példányok legyen a tanítópéldányok, a páratlan sorszámúak pedig a tesztpéldányok!\n",
        "\n",
        "(b) Ossza fel az adatokat és címkéket az előbbiekben létrehozott indexek használatával!"
      ]
    },
    {
      "cell_type": "code",
      "metadata": {
        "id": "dnSG9nJvsmtn"
      },
      "source": [
        "...IDE JÖN A KÓD..."
      ],
      "execution_count": null,
      "outputs": []
    },
    {
      "cell_type": "code",
      "metadata": {
        "id": "ACOzZDEltSZP"
      },
      "source": [
        "...IDE JÖN A KÓD..."
      ],
      "execution_count": null,
      "outputs": []
    },
    {
      "cell_type": "markdown",
      "metadata": {
        "id": "-Q7u4L-e9P7Y"
      },
      "source": [
        "**5. feladat: hasonlósági függvények**\n",
        "\n",
        "Írjon egy függvényt, amely kiszámolja két példány\n",
        "\n",
        "(a) euklidészi távolságát,\n",
        "\n",
        "(b) Manhattan-távolságát,\n",
        "\n",
        "(c) koszinusz távolságát!"
      ]
    },
    {
      "cell_type": "code",
      "metadata": {
        "id": "3_hDr31Jdlvm"
      },
      "source": [
        "...IDE JÖN A KÓD..."
      ],
      "execution_count": null,
      "outputs": []
    },
    {
      "cell_type": "code",
      "metadata": {
        "id": "pahgfh1GdmMc"
      },
      "source": [
        "# Test 1\n",
        "euclidean_distance( np.array([1,1,1]), np.array([2,2,2])) == math.sqrt(3)"
      ],
      "execution_count": null,
      "outputs": []
    },
    {
      "cell_type": "code",
      "metadata": {
        "id": "I1ZNIWXQe8gZ"
      },
      "source": [
        "# Test 2\n",
        "euclidean_distance( np.array([1,2]), np.array([5,5])) == 5"
      ],
      "execution_count": null,
      "outputs": []
    },
    {
      "cell_type": "code",
      "metadata": {
        "id": "Sl0R6bjpj-4I"
      },
      "source": [
        "...IDE JÖN A KÓD..."
      ],
      "execution_count": null,
      "outputs": []
    },
    {
      "cell_type": "code",
      "metadata": {
        "id": "NOh5ojTtkm7C"
      },
      "source": [
        "# Test 1\n",
        "manhattan_distance( np.array([1,1,1]), np.array([2,2,2])) == 3"
      ],
      "execution_count": null,
      "outputs": []
    },
    {
      "cell_type": "code",
      "metadata": {
        "id": "FscgJUhcktTn"
      },
      "source": [
        "# Test 2\n",
        "manhattan_distance( np.array([1,2]), np.array([5,5])) == 7"
      ],
      "execution_count": null,
      "outputs": []
    },
    {
      "cell_type": "code",
      "metadata": {
        "id": "FPP9Ev93lAwQ"
      },
      "source": [
        "...IDE JÖN A KÓD..."
      ],
      "execution_count": null,
      "outputs": []
    },
    {
      "cell_type": "code",
      "metadata": {
        "id": "lR5anbE_lkga"
      },
      "source": [
        "# Test 1\n",
        "abs( cosine_distance(np.array([1,1]), np.array([2,2])) ) < 0.0001"
      ],
      "execution_count": null,
      "outputs": []
    },
    {
      "cell_type": "code",
      "metadata": {
        "id": "DG-Df-udkUvt"
      },
      "source": [
        "# Test\n",
        "abs( cosine_distance(np.array([-1,1]), np.array([2,2])) - 1 ) < 0.0001"
      ],
      "execution_count": null,
      "outputs": []
    },
    {
      "cell_type": "markdown",
      "metadata": {
        "id": "Gq4VM5zP-Cg2"
      },
      "source": [
        "**6. feladat**\n",
        "\n",
        "(a) Írjon egy függvényt, amely meghatározza egy példány euklideszi távolság szerinti legközelebbi szomszédját! A függvény eredménye legyen a legközelebbi szomszéd sorszáma (indexe) és annak távolsága!\n",
        "\n",
        "(b) Fejlessze tovább az előző függvényt olyan módon, hogy tetszőleg távolságfüggvény mellett képes legyen a legközelebbi szomszéd meghatározására. A távolságfüggvény legyen egy további argumentum. Az (a) pontban elkészített megoldással való kompatibilitás miatt figyeljen arra, hogy amennyiben a kód használója nem ad meg távolságot, akkor az euklideszi távolság mellett történjen a legközelebbi szomszéd meghatározása!"
      ]
    },
    {
      "cell_type": "code",
      "metadata": {
        "id": "1H1T7dW7--dB"
      },
      "source": [
        "def get_nearest_neighbor(x: np.array, data: np.array) -> Tuple[int, float]:\n",
        "  \"\"\"\n",
        "  Legközelebbi szomszéd megkeresése\n",
        "\n",
        "  Bemenet:\n",
        "  --------\n",
        "    x : np.array\n",
        "      Azon példány, amelynek a legközelebbi szomszédját keressük\n",
        "    data : np.array\n",
        "      Az adattábla, amiben keressük x legközelebbi szomszédját\n",
        "\n",
        "  Kimenet:\n",
        "    nearest_neighbor_index : int\n",
        "      a legközelebbi szomszéd sorszáma (data hányadik példánya az x \n",
        "      legközelebbi szomszédja)     \n",
        "    distance_to_nearest_neighbor : float\n",
        "      x távolsága a legközelebbi szomszédjától\n",
        "  \"\"\" \n",
        "  \n",
        "  ...IDE JÖN A KÓD...\n",
        "\n",
        "  return nearest_neighbor_index, distance_to_nearest_neighbor"
      ],
      "execution_count": null,
      "outputs": []
    },
    {
      "cell_type": "code",
      "metadata": {
        "id": "-1JjhC7RnnLp"
      },
      "source": [
        "# Test\n",
        "get_nearest_neighbor(test_data[0], train_data) == (6, 0.1414213562373099)"
      ],
      "execution_count": null,
      "outputs": []
    },
    {
      "cell_type": "code",
      "metadata": {
        "id": "6yV5WACMJF9t"
      },
      "source": [
        "# Test\n",
        "get_nearest_neighbor(test_data[0], train_data, euclidean_distance) == (6, 0.1414213562373099)"
      ],
      "execution_count": null,
      "outputs": []
    },
    {
      "cell_type": "markdown",
      "metadata": {
        "id": "yOoI9iS6AS-q"
      },
      "source": [
        "**7. feladat**\n",
        "\n",
        "(a) Az előző feladatban elkészített függvényt felhasználva írjon egy olyan függvényt, amely megadja, hogy milyen osztálycímkét prediktál a legközelebbi szomszéd osztályozó egy (teszt) példányra!\n",
        "\n",
        "(b) Az (a) pontbeli függvényt felhasználva írjon egy függvényt, amely egy tesztadattábla minden egyes példányára megadja a legközelebbi szomszéd által prediktált címkét!\n",
        "\n",
        "(c) Az euklideszi távolságot használva osztályozza az Iris adatbázis teszt példányait és számolja ki az osztályozás pontosságát (helyesen osztályozott példányok arányát)!\n",
        "\n",
        "(d) A Manhattan és koszinusz távolságokat használva osztályozza az Iris adatbázis teszt példányait és számolja ki az osztályozás pontosságát (helyesen osztályozott példányok arányát) mindkét esetben! Eközben a %%time varázsszó segítségével mérje le, hogy mennyi ideig tart az osztályozás!"
      ]
    },
    {
      "cell_type": "code",
      "metadata": {
        "id": "CU2pteqMHhMz"
      },
      "source": [
        "def nearest_neighbor_prediction_for_an_instance(test_instance: np.array,\n",
        "  train_data: np.array, train_labels: np.array, distance) -> int:\n",
        "  \n",
        "  ...IDE JÖN A KÓD..."
      ],
      "execution_count": null,
      "outputs": []
    },
    {
      "cell_type": "code",
      "metadata": {
        "id": "k2HTfu-NIeYF"
      },
      "source": [
        "# Test\n",
        "nearest_neighbor_prediction_for_an_instance(\n",
        "    test_data[0], train_data, train_labels, euclidean_distance) == 0"
      ],
      "execution_count": null,
      "outputs": []
    },
    {
      "cell_type": "code",
      "metadata": {
        "id": "1AZUw1bNIxQ0"
      },
      "source": [
        "def nearest_neighbor_predictions(test_data: np.array, \n",
        "  train_data: np.array, train_labels: np.array, distance) -> np.array:\n",
        "  \n",
        "  ...IDE JÖN A KÓD..."
      ],
      "execution_count": null,
      "outputs": []
    },
    {
      "cell_type": "code",
      "metadata": {
        "id": "8ndO15PlJ2i4"
      },
      "source": [
        "  ...IDE JÖN A KÓD..."
      ],
      "execution_count": null,
      "outputs": []
    },
    {
      "cell_type": "code",
      "metadata": {
        "id": "rqNBHG_9KJqt"
      },
      "source": [
        "  ...IDE JÖN A KÓD..."
      ],
      "execution_count": null,
      "outputs": []
    },
    {
      "cell_type": "markdown",
      "metadata": {
        "id": "U1cIk9hrCJ3h"
      },
      "source": [
        "**Földrengésadatok (idősorok) betöltése és osztályozása euklideszi távolságot használva**"
      ]
    },
    {
      "cell_type": "code",
      "metadata": {
        "id": "Y7FVmFpINfwK"
      },
      "source": [
        "!wget http://www.timeseriesclassification.com/Downloads/Earthquakes.zip"
      ],
      "execution_count": null,
      "outputs": []
    },
    {
      "cell_type": "code",
      "metadata": {
        "id": "Zdxl_X_5OPW0"
      },
      "source": [
        "!unzip Earthquakes.zip"
      ],
      "execution_count": null,
      "outputs": []
    },
    {
      "cell_type": "code",
      "metadata": {
        "id": "u6A9NoRcOWhT"
      },
      "source": [
        "train_data_with_labels = np.genfromtxt('Earthquakes_TRAIN.txt')\n",
        "test_data_with_labels = np.genfromtxt('Earthquakes_TEST.txt')"
      ],
      "execution_count": null,
      "outputs": []
    },
    {
      "cell_type": "code",
      "metadata": {
        "id": "zLDiAQJmPOFH"
      },
      "source": [
        "train_data = train_data_with_labels[:,1:]\n",
        "train_labels = train_data_with_labels[:,0]\n",
        "test_data = test_data_with_labels[:,1:]\n",
        "test_labels = test_data_with_labels[:,0]"
      ],
      "execution_count": null,
      "outputs": []
    },
    {
      "cell_type": "code",
      "metadata": {
        "id": "VctAMCY-9GpF"
      },
      "source": [
        "train_labels"
      ],
      "execution_count": null,
      "outputs": []
    },
    {
      "cell_type": "markdown",
      "metadata": {
        "id": "gDkHTlcS-mm4"
      },
      "source": [
        "**8. feladat: Földrengésadatok megjelenítése**\n",
        "\n",
        "(a) Jelenítse meg az adattábla első idősorát! (Tipp: Használja a pd.Series-t!)\n",
        "\n",
        "(b) Jelenítse meg az első 10 példányt egy TabBar-on!\n",
        "\n",
        "(c) Módosítsa a TabBar-on való megjelenítés kódját úgy, hogy egy-egy idősort kékkel vagy pirossal jelenít meg az idősor osztálycímkéjének megfelelően!"
      ]
    },
    {
      "cell_type": "code",
      "metadata": {
        "id": "XsEldMtc83nm"
      },
      "source": [
        "...IDE JÖN A KÓD..."
      ],
      "execution_count": null,
      "outputs": []
    },
    {
      "cell_type": "code",
      "metadata": {
        "id": "FxKAVcJ39YDz"
      },
      "source": [
        "...IDE JÖN A KÓD..."
      ],
      "execution_count": null,
      "outputs": []
    },
    {
      "cell_type": "markdown",
      "metadata": {
        "id": "UU6UqaqF82z0"
      },
      "source": [
        "**9. feladat: Legközelebbi szomszéd osztályozás euklideszi távolsággal**\n",
        "\n",
        "(a) Osztályozza az idősorokat legközelebbi szomszéd osztályozóval az euklideszi távolság használatával és értékelje ki az osztályozó pontosságát!\n",
        "\n",
        "(b) Írjon egy függvényt, amely a Piecewise Aggregate Approximation (PAA) transzformációt valósítja meg!\n",
        "\n",
        "(c) Transzformálja az idősorokat PAA-val, 4-es ablakmérettel! Osztályozza a transzformált idősorokat és hasonlítsa össze az osztályozás pontosságát az (a) feladatbeli osztályozás pontosságával!\n",
        "\n"
      ]
    },
    {
      "cell_type": "code",
      "metadata": {
        "id": "RwWfFJFBPUym"
      },
      "source": [
        "...IDE JÖN A KÓD..."
      ],
      "execution_count": null,
      "outputs": []
    },
    {
      "cell_type": "markdown",
      "metadata": {
        "id": "sHhX0g3i75l6"
      },
      "source": [
        ""
      ]
    },
    {
      "cell_type": "code",
      "metadata": {
        "id": "lvRqXnk5W5-L"
      },
      "source": [
        "def paa(time_series: np.array, window_size: int) -> np.array:\n",
        "  \n",
        "  ...IDE JÖN A KÓD..."
      ],
      "execution_count": null,
      "outputs": []
    },
    {
      "cell_type": "code",
      "metadata": {
        "id": "O0xQl0WyX5pR"
      },
      "source": [
        "# Test\n",
        "paa([1,2,3,2,8,9,10,11],4)==np.array([2,9.5])"
      ],
      "execution_count": null,
      "outputs": []
    },
    {
      "cell_type": "code",
      "metadata": {
        "id": "OAxORvTVYd4r"
      },
      "source": [
        "...IDE JÖN A KÓD..."
      ],
      "execution_count": null,
      "outputs": []
    },
    {
      "cell_type": "code",
      "metadata": {
        "id": "1pB3MkkmZG7S"
      },
      "source": [
        "...IDE JÖN A KÓD..."
      ],
      "execution_count": null,
      "outputs": []
    },
    {
      "cell_type": "markdown",
      "metadata": {
        "id": "niSByxxa8M_W"
      },
      "source": [
        "**10. feladat: Dynamic Time Warping**\n",
        "\n",
        "(a) Írjon egy függvényt, amely két idősor dynamic time warpin (DTW) távolságát számolja! \n",
        "\n",
        "(b) Használja a függvényt legközelebbi szomszéd osztályozóban a földrengésadatok osztályozásásra! Mérje le, hogy mennyi ideig tart és milyen pontos az osztályozás!"
      ]
    },
    {
      "cell_type": "code",
      "metadata": {
        "id": "jpb47iWsSt1a"
      },
      "source": [
        "def dtw(ts1: np.array, ts2: np.array) -> float:\n",
        "  \n",
        "  ...IDE JÖN A KÓD..."
      ],
      "execution_count": null,
      "outputs": []
    },
    {
      "cell_type": "code",
      "metadata": {
        "id": "Aup4cYPiUotO"
      },
      "source": [
        "# Test\n",
        "dtw([1,2,3,3,4,1],[1,1,3,4,3,1]) == 2"
      ],
      "execution_count": null,
      "outputs": []
    },
    {
      "cell_type": "code",
      "metadata": {
        "id": "4sAY2Hd6Upw8"
      },
      "source": [
        "...IDE JÖN A KÓD..."
      ],
      "execution_count": null,
      "outputs": []
    }
  ]
}