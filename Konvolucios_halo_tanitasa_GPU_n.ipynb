{
  "nbformat": 4,
  "nbformat_minor": 0,
  "metadata": {
    "colab": {
      "name": "Konvolucios halo tanitasa GPU-n.ipynb",
      "provenance": [],
      "collapsed_sections": [],
      "authorship_tag": "ABX9TyNX2J1B7KDKo/VpmuZWpKtv",
      "include_colab_link": true
    },
    "kernelspec": {
      "name": "python3",
      "display_name": "Python 3"
    },
    "language_info": {
      "name": "python"
    },
    "accelerator": "GPU"
  },
  "cells": [
    {
      "cell_type": "markdown",
      "metadata": {
        "id": "view-in-github",
        "colab_type": "text"
      },
      "source": [
        "<a href=\"https://colab.research.google.com/github/kr7/IntelligensModszerekTantargy/blob/main/Konvolucios_halo_tanitasa_GPU_n.ipynb\" target=\"_parent\"><img src=\"https://colab.research.google.com/assets/colab-badge.svg\" alt=\"Open In Colab\"/></a>"
      ]
    },
    {
      "cell_type": "code",
      "metadata": {
        "id": "0YORYkQQ69o9"
      },
      "source": [
        "import cv2\n",
        "import numpy as np\n",
        "import matplotlib.pyplot as plt\n",
        "import torch\n",
        "import torch.nn as nn\n",
        "import torch.optim as optim\n",
        "\n",
        "from google.colab import widgets"
      ],
      "execution_count": 1,
      "outputs": []
    },
    {
      "cell_type": "markdown",
      "metadata": {
        "id": "MM0lurY3SuYL"
      },
      "source": [
        "**Adatok betöltése és megjelenítése**"
      ]
    },
    {
      "cell_type": "code",
      "metadata": {
        "id": "D1X-09ZG7sbM"
      },
      "source": [
        "data = np.loadtxt('https://archive.ics.uci.edu/ml/machine-learning-databases/semeion/semeion.data')"
      ],
      "execution_count": 2,
      "outputs": []
    },
    {
      "cell_type": "markdown",
      "metadata": {
        "id": "bC19p6kuVAZn"
      },
      "source": [
        "Felosztjuk az adatainkat tanító és teszt adatokra. Az utolsó 500 példány lesz a teszt adathalmaz, a többi a tanítóhalmaz."
      ]
    },
    {
      "cell_type": "code",
      "metadata": {
        "id": "HWifHgrKCN4a"
      },
      "source": [
        "train_data = data[:1093,0:256]\n",
        "train_labels = data[:1093,256:266]\n",
        "test_data = data[1093:,0:256]\n",
        "test_labels = data[1093:,256:266]"
      ],
      "execution_count": 3,
      "outputs": []
    },
    {
      "cell_type": "code",
      "metadata": {
        "id": "diVHfKJeyxpZ"
      },
      "source": [
        "class DigitRecognizerCNN(nn.Module):\n",
        "    def __init__(self):\n",
        "        super(DigitRecognizerCNN, self).__init__()\n",
        "        num_units_fc = 1000\n",
        "\n",
        "        self.conv1 = nn.Conv2d(in_channels = 1, out_channels = 32, \n",
        "                               kernel_size=(5,5), padding='same')\n",
        "        self.conv2 = nn.Conv2d(in_channels = 32, out_channels = 64, \n",
        "                               kernel_size=(5,5), padding='same')\n",
        "        self.fc1 = nn.Linear(64*16*16, num_units_fc)\n",
        "        self.fc2 = nn.Linear(num_units_fc, num_units_fc)\n",
        "        self.out = nn.Linear(num_units_fc, 10) \n",
        "\n",
        "    def forward(self, x):\n",
        "        x = x.view(-1, 1, 16, 16)\n",
        "        x = self.conv1(x)\n",
        "        x = self.conv2(x)\n",
        "        x = x.view(-1, 64*16*16)\n",
        "        x = torch.relu(self.fc1(x))\n",
        "        x = torch.relu(self.fc2(x))\n",
        "        x = self.out(x)\n",
        "        return x"
      ],
      "execution_count": 4,
      "outputs": []
    },
    {
      "cell_type": "markdown",
      "source": [
        "Tanítás GPU-n, ha elérhető a GPU"
      ],
      "metadata": {
        "id": "crolQ-EwZa8R"
      }
    },
    {
      "cell_type": "code",
      "source": [
        "gpu = torch.cuda.is_available()"
      ],
      "metadata": {
        "id": "vpOMfDbVZacg"
      },
      "execution_count": 5,
      "outputs": []
    },
    {
      "cell_type": "code",
      "source": [
        "print(gpu)"
      ],
      "metadata": {
        "colab": {
          "base_uri": "https://localhost:8080/"
        },
        "id": "XfidrUulZojk",
        "outputId": "955f7738-a363-40be-c165-9537b5eaae97"
      },
      "execution_count": 6,
      "outputs": [
        {
          "output_type": "stream",
          "name": "stdout",
          "text": [
            "True\n"
          ]
        }
      ]
    },
    {
      "cell_type": "code",
      "source": [
        "train_dataset = torch.utils.data.TensorDataset(\n",
        "    torch.Tensor(train_data), torch.Tensor(train_labels) )\n",
        "trainloader = torch.utils.data.DataLoader(\n",
        "    train_dataset, shuffle=True, batch_size=16)\n",
        "\n",
        "net = DigitRecognizerCNN()\n",
        "if gpu:\n",
        "  net.cuda()\n",
        "criterion = nn.BCEWithLogitsLoss()\n",
        "optimizer = optim.SGD(net.parameters(), lr=0.01)\n",
        "\n",
        "running_loss = 0.0\n",
        "running_n = 0\n",
        "\n",
        "best_acc = 0\n",
        "best_epoch = 0\n",
        "\n",
        "for epoch in range(100):  \n",
        "  for inputs, targets in trainloader:\n",
        "    optimizer.zero_grad()\n",
        "    \n",
        "    if gpu:\n",
        "      inputs = inputs.cuda()\n",
        "      targets = targets.cuda()\n",
        "\n",
        "    outputs = net(inputs)\n",
        "\n",
        "    loss = criterion(outputs, targets)\n",
        "    loss.backward()\n",
        "    optimizer.step()\n",
        "\n",
        "    running_loss += loss.item()\n",
        "    running_n = running_n + 1"
      ],
      "metadata": {
        "id": "sUwvW5tTZDPA"
      },
      "execution_count": 7,
      "outputs": []
    },
    {
      "cell_type": "code",
      "source": [
        "def eval_net(net):\n",
        "  test_dataset = torch.utils.data.TensorDataset( \n",
        "        torch.Tensor(test_data), torch.Tensor(test_labels))\n",
        "  testloader = torch.utils.data.DataLoader(test_dataset)\n",
        "\n",
        "  correct = 0\n",
        "  total = 0\n",
        "\n",
        "  with torch.no_grad():\n",
        "    for inputs, targets in testloader:\n",
        "      if gpu:\n",
        "        inputs = inputs.cuda()\n",
        "        targets = targets.cuda()\n",
        "        \n",
        "      outputs = net(inputs)\n",
        "      _, predicted = torch.max(outputs.data, 1)\n",
        "      _, targets_ordinal = torch.max(targets, 1)\n",
        "      \n",
        "      # a \"corrects\" és a total változók a CPU-n vannak, ezért \n",
        "      # \"vissza kell hozni\" targets-et és a helyes klasszifikációk számát\n",
        "      #  a CPU-ra\n",
        "      targets = targets.cpu()\n",
        "      correct += (predicted == targets_ordinal).cpu()\n",
        "      total += targets.size(0)\n",
        "\n",
        "  return float(correct/total)"
      ],
      "metadata": {
        "id": "HHV-byDYayTE"
      },
      "execution_count": 8,
      "outputs": []
    },
    {
      "cell_type": "code",
      "metadata": {
        "id": "hu9JiKeqJrvf",
        "colab": {
          "base_uri": "https://localhost:8080/"
        },
        "outputId": "0c9d07b0-8302-4d6d-eac7-72f5eb03247a"
      },
      "source": [
        "eval_net(net)"
      ],
      "execution_count": 9,
      "outputs": [
        {
          "output_type": "execute_result",
          "data": {
            "text/plain": [
              "0.9139999747276306"
            ]
          },
          "metadata": {},
          "execution_count": 9
        }
      ]
    }
  ]
}