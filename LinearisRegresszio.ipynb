{
  "nbformat": 4,
  "nbformat_minor": 0,
  "metadata": {
    "colab": {
      "name": "LinearisRegresszio.ipynb",
      "provenance": [],
      "collapsed_sections": [],
      "authorship_tag": "ABX9TyNBVLtRR/kwDbWLmCrJX8GC"
    },
    "kernelspec": {
      "name": "python3",
      "display_name": "Python 3"
    }
  },
  "cells": [
    {
      "cell_type": "code",
      "metadata": {
        "id": "2gBcRx7OiadT"
      },
      "source": [
        "import matplotlib.pyplot as plt\r\n",
        "import matplotlib.image as img\r\n",
        "import pandas as pd\r\n",
        "import math\r\n",
        "import numpy as np\r\n",
        "# %matplotlib inline ### ugy tunik, most nem kell, de maskor jol johet :-)\r\n",
        "\r\n",
        "from random import random\r\n",
        "from collections.abc import Iterable\r\n",
        "from typing import Tuple"
      ],
      "execution_count": null,
      "outputs": []
    },
    {
      "cell_type": "markdown",
      "metadata": {
        "id": "YdKBsrdg5JHK"
      },
      "source": [
        "**1. feladat: social media elemzés**\r\n",
        "\r\n",
        "A következő feladatban azt vizsgáljuk, milyen összefüggés van egy blogbejegyzésre érkezett kommentek száma és a bejegyzés megjelenése óta eltelt idő között. Ehhez \r\n",
        "\r\n",
        "y_pred = w * x \r\n",
        "\r\n",
        "alakban írható modellt fogunk használni. \r\n",
        "\r\n",
        "\r\n",
        "(a) Google Colab-ban \"!\"-lel kezdve kiadhatunk parancssori (linux) parancsokat. Próbálja ki az alábbi cellában található \"pwd\" (present working directory) parnacsot, majd listázza ki az akutális könyvtár tartalmát, hajtsa végre az adatokat letöltő parancsot és újra listázza ki az aktuális könyvtár tartalmát, ezáltal ellenőrizze, hogy a letöltés sikeres.  "
      ]
    },
    {
      "cell_type": "code",
      "metadata": {
        "id": "Om8DCigab-8m"
      },
      "source": [
        "!pwd"
      ],
      "execution_count": null,
      "outputs": []
    },
    {
      "cell_type": "code",
      "metadata": {
        "id": "yNxAtqUFb6qb"
      },
      "source": [
        "...IDE JÖN A KÓD..."
      ],
      "execution_count": null,
      "outputs": []
    },
    {
      "cell_type": "code",
      "metadata": {
        "id": "l_RorftRZQrJ"
      },
      "source": [
        "!wget https://archive.ics.uci.edu/ml/machine-learning-databases/00304/BlogFeedback.zip"
      ],
      "execution_count": null,
      "outputs": []
    },
    {
      "cell_type": "code",
      "metadata": {
        "id": "J-h7yEvZ9uFd"
      },
      "source": [
        "...IDE JÖN A KÓD..."
      ],
      "execution_count": null,
      "outputs": []
    },
    {
      "cell_type": "markdown",
      "metadata": {
        "id": "p7YEn-C59xo3"
      },
      "source": [
        "(b) Az előző részfeladatban az adatokat egy tömörített zip-fájlként tölöttük le. Az operációs rendszer \"unzip\" parancsát használva tömörítse ki az adatokat! "
      ]
    },
    {
      "cell_type": "code",
      "metadata": {
        "id": "SvISzt0La9ny"
      },
      "source": [
        "...IDE JÖN A KÓD..."
      ],
      "execution_count": null,
      "outputs": []
    },
    {
      "cell_type": "markdown",
      "metadata": {
        "id": "Zf7Gfu2Y-KPf"
      },
      "source": [
        "(c) A keletkezett fájlok közöl a blogData_train.csv-t fogjuk használni. Az operációs rendszer \"head\" parancsát használva jelenítse meg a fájl első néhány sorát! "
      ]
    },
    {
      "cell_type": "code",
      "metadata": {
        "id": "VC9dsSUpa9Wu"
      },
      "source": [
        "...IDE JÖN A KÓD..."
      ],
      "execution_count": null,
      "outputs": []
    },
    {
      "cell_type": "markdown",
      "metadata": {
        "id": "joQtDYsI_oR-"
      },
      "source": [
        "(d) Az előző részfeladat eredményét megvizsgálva paraméterezze az adatokat pandas DataFrame-be betöltő parancsot! Ha szükséges, tanulmányozza a Pandas DataFrame read_csv metódusának dokumentációját!"
      ]
    },
    {
      "cell_type": "code",
      "metadata": {
        "id": "yZwV9X5Xc0sz"
      },
      "source": [
        "separator = ...IDE JÖN A KÓD...\r\n",
        "header = ...IDE JÖN A KÓD...\r\n",
        "blog_data = pd.read_csv('blogData_train.csv', header=header, sep=separator)"
      ],
      "execution_count": null,
      "outputs": []
    },
    {
      "cell_type": "markdown",
      "metadata": {
        "id": "Gy3ruGGY_zcc"
      },
      "source": [
        "(e) A DataFrame head() metódusát használva jelenítse meg a betöltött adatokat és hasonlítsa össze a kapott adatokat a (c) feladat ereményével és ez alapján ítélje meg, hogy megfelelően sikerült-e az adatok betöltése."
      ]
    },
    {
      "cell_type": "code",
      "metadata": {
        "id": "LsiJbZ4idnu9"
      },
      "source": [
        "...IDE JÖN A KÓD..."
      ],
      "execution_count": null,
      "outputs": []
    },
    {
      "cell_type": "markdown",
      "metadata": {
        "id": "Qx38JqBSAYvE"
      },
      "source": [
        "(f) A DataFrame describe metódusát felhasználva jelenítse meg az egyes attribútumokra vonatkozó leíró statisztikákat!"
      ]
    },
    {
      "cell_type": "code",
      "metadata": {
        "id": "GAgQsa1AbHEB"
      },
      "source": [
        "...IDE JÖN A KÓD..."
      ],
      "execution_count": null,
      "outputs": []
    },
    {
      "cell_type": "markdown",
      "metadata": {
        "id": "hE-mSz5sAo1j"
      },
      "source": [
        "(g) Az adatok leírásának (https://archive.ics.uci.edu/ml/datasets/BlogFeedback) alapos tanulmányozása alapján arra jutottunk, hogy a DataFrame 60-as indexű oszlopa tartalmazza a blogbejegyzés (post) publikálása óta eltelt időt (órában), az 50-es indexű oszlop pedig a kommentek számát. A következőkben csak ezzel a két oszloppal fogunk dolgozni. Feleltesse meg \"xs\"-t (xs = \"x többes száma\") a 60-as indexű oszlop, ys pedig az 50-es indexű oszlop!"
      ]
    },
    {
      "cell_type": "code",
      "metadata": {
        "id": "T5GHAVUceNN-"
      },
      "source": [
        "xs = ...IDE JÖN A KÓD... # a bejegyzés (post) publikálása óta eltelt idő (órában)\r\n",
        "ys = ...IDE JÖN A KÓD... # kommentek száma (a post publikálása óta)"
      ],
      "execution_count": null,
      "outputs": []
    },
    {
      "cell_type": "markdown",
      "metadata": {
        "id": "zy7503Z7B3Cu"
      },
      "source": [
        "(h) Az ügyféllel való konzultáció eredményeként az elemzés során a \"népszerű\" blogokkal foglalkozunk, azaz azokkal, amelyek egyes bejegyzéseire érkezett kommentek számának mediánja nagyobb 500-nál. Az adott blog egyes bejegyzéseire érkezett kommentjeinek számának mediánját a DataFrame 4-es indexű oszlopa tartalmazza. Válassza ki az elemzés szempontjából releváns példányokat!"
      ]
    },
    {
      "cell_type": "code",
      "metadata": {
        "id": "U0qFN6nPB3e3"
      },
      "source": [
        "popular_blogs = ...IDE JÖN A KÓD...\r\n",
        "# azon blogok, amelyekre \"tipikusan\" sok komment érkezik (a kommentek számának mediánja nagyobb 500-nál)\r\n",
        "\r\n",
        "xs = ...IDE JÖN A KÓD... \r\n",
        "ys = ...IDE JÖN A KÓD..."
      ],
      "execution_count": null,
      "outputs": []
    },
    {
      "cell_type": "markdown",
      "metadata": {
        "id": "C50QiJLUCrJT"
      },
      "source": [
        "(i) Ábrázoljuk xs-t és ys-t egy scatter plotban annak érdekében, hogy egy benyomásunk legyen arról, hogy a két változó hogyan függ egymástól!"
      ]
    },
    {
      "cell_type": "code",
      "metadata": {
        "id": "_wEe40M9hL3B"
      },
      "source": [
        "...IDE JÖN A KÓD..."
      ],
      "execution_count": null,
      "outputs": []
    },
    {
      "cell_type": "markdown",
      "metadata": {
        "id": "bvnGqm04C_7-"
      },
      "source": [
        "(j) Egészítse ki az alábbi függvényt, amely kiszámolja egy w paraméterű modell által adott x esetén prediktált értéket!"
      ]
    },
    {
      "cell_type": "code",
      "metadata": {
        "id": "g06K13LNqpke"
      },
      "source": [
        "def pred(w: float, x: float) -> float:\r\n",
        "  \"\"\" \r\n",
        "  Az y_pred = w*x alaku modell által prediktált érték kiszámítása\r\n",
        "\r\n",
        "  Bemenet: \r\n",
        "  -------\r\n",
        "    w : float\r\n",
        "      a modell paramétere\r\n",
        "    x : float\r\n",
        "      azon x érték, amelyhez tartozó predikciót ki akarjuk számolni\r\n",
        "\r\n",
        "  Kimenet:\r\n",
        "  --------\r\n",
        "    float : a prediktált érték \r\n",
        "  \"\"\"\r\n",
        "  \r\n",
        "  return ...IDE JÖN A KÓD..."
      ],
      "execution_count": null,
      "outputs": []
    },
    {
      "cell_type": "code",
      "metadata": {
        "id": "UlidTot0GnIC"
      },
      "source": [
        "# test \r\n",
        "assert pred(2,3)==6\r\n",
        "print(\"OK\")"
      ],
      "execution_count": null,
      "outputs": []
    },
    {
      "cell_type": "markdown",
      "metadata": {
        "id": "lOYs2HoZDPA0"
      },
      "source": [
        "(k) Egészítse ki az alábbi függvényt, amely kiszámolja egy prediktált y_pred és a hozzá tartozó tényleges y_true érték közötti négyzetes hibát!"
      ]
    },
    {
      "cell_type": "code",
      "metadata": {
        "id": "gumJBiLgrPU7"
      },
      "source": [
        "def error_for_an_instance(y_pred: float, y_true: float) -> float:\r\n",
        "  \"\"\"\r\n",
        "  A négyzetes hiba értéke egy adott példány esetében.\r\n",
        "\r\n",
        "  Bemenet: \r\n",
        "  --------\r\n",
        "    y_pred : float\r\n",
        "      A célváltozó modell által prediktált értéke egy adott példány esetében\r\n",
        "    y_true : float\r\n",
        "      A célváltozó tényleges értéke ugyanazon példány esetében\r\n",
        "\r\n",
        "  Kimenet:\r\n",
        "  --------\r\n",
        "    float : a modell hibája az adott példányra\r\n",
        "  \"\"\"\r\n",
        "\r\n",
        "  return ...IDE JÖN A KÓD..."
      ],
      "execution_count": null,
      "outputs": []
    },
    {
      "cell_type": "code",
      "metadata": {
        "id": "f8tNXKoTGxuF"
      },
      "source": [
        "# test\r\n",
        "assert error_for_an_instance(3, 5) == 4\r\n",
        "assert error_for_an_instance(9, 4) == 25\r\n",
        "print(\"OK\")"
      ],
      "execution_count": null,
      "outputs": []
    },
    {
      "cell_type": "markdown",
      "metadata": {
        "id": "-j89oCTADkgp"
      },
      "source": [
        "(l) Egészítse ki az alábbi függvényt, amely az előző pontban készített függvényt felhasználva kiszámolja egy adathalmazra adott predikciók és a hozzájuk tartozó tényleges célváltozó-értékek közötti RMSE-t!"
      ]
    },
    {
      "cell_type": "code",
      "metadata": {
        "id": "oiuGAGATsVSO"
      },
      "source": [
        "def rmse(ys_pred: Iterable, ys_true: Iterable) -> float:\r\n",
        "  \"\"\"\r\n",
        "  A model hibája (RMSE) egy adathalmazra\r\n",
        "\r\n",
        "  Bemenet: \r\n",
        "  --------\r\n",
        "    ys_pred : Iterable\r\n",
        "      A célváltozó modell által prediktált értéke az adathalmaz minden \r\n",
        "      egyes példányára\r\n",
        "    ys_true : Iterable\r\n",
        "      A célváltozó tényleges értéke az adathalmaz minden egyes példányára\r\n",
        "      (ugyanabban a sorrendben, mint ys_pred)\r\n",
        "\r\n",
        "  Kimenet:\r\n",
        "  --------\r\n",
        "  float : a modell hibája az adott példányra\r\n",
        "  \"\"\"\r\n",
        "\r\n",
        "  return ...IDE JÖN A KÓD..."
      ],
      "execution_count": null,
      "outputs": []
    },
    {
      "cell_type": "code",
      "metadata": {
        "id": "LTJxgtVFHAw8"
      },
      "source": [
        "# test\r\n",
        "assert rmse( [13, 76] , [8, 81] ) == 5\r\n",
        "print(\"OK\")"
      ],
      "execution_count": null,
      "outputs": []
    },
    {
      "cell_type": "markdown",
      "metadata": {
        "id": "FhLU83ybEQI2"
      },
      "source": [
        "(m) A modell paraméterét meghatározó algoritmus, az előadáson tanultaknak megfelelően, a négyzetes hibák átlagát fogja minimalizálni. A négyzetes hibák átlaga valójában egy összeg, melynek minden egyes tagja az adathalmaz egy-egy példányának felel meg. Ezért beszélhetünk a példányonkénti hibáról és a példányonkénti hiba w szerinti deriváltjáról, amelynek értéke \r\n",
        "\r\n",
        "2 * (y_pred - y_true) * x\r\n",
        "\r\n",
        "ahol \r\n",
        "\r\n",
        "- *y_pred* a modell által az adott példány esetében prediktált célváltozóértéjet, \r\n",
        "\r\n",
        "- *y_true* a célváltozó tényleges értékét, \r\n",
        "\r\n",
        "- *x* pedig a bemeneti változó értékét jelöli. \r\n",
        "\r\n",
        "Írjon egy függvényt, amely kiszámolja a hiba deriváltját egy példányra."
      ]
    },
    {
      "cell_type": "code",
      "metadata": {
        "id": "WCRRuq_JzK6z"
      },
      "source": [
        "def derivative_of_the_error_for_an_instance(w: float, \r\n",
        "                                            x: float, y_true: float) -> float:\r\n",
        "  \"\"\"\r\n",
        "  A hiba deriváltja egy példány esetében\r\n",
        "\r\n",
        "  Bemenet:\r\n",
        "  --------\r\n",
        "    w : float\r\n",
        "      a modell w paramétere\r\n",
        "    x : float\r\n",
        "      az adott példány, amely esetében a hiba deriváltját számoljuk\r\n",
        "    y_true : float\r\n",
        "      a célváltozó értéke az x példány esetében\r\n",
        "\r\n",
        "  Kimenet:\r\n",
        "  --------\r\n",
        "    float : a hiba w szerinti deriváltja az adott példányra \r\n",
        "  \"\"\"\r\n",
        "  \r\n",
        "  ...IDE JÖN A KÓD..."
      ],
      "execution_count": null,
      "outputs": []
    },
    {
      "cell_type": "code",
      "metadata": {
        "id": "EdCs-hJLIP7S"
      },
      "source": [
        "# test\r\n",
        "assert derivative_of_the_error_for_an_instance(2, 4, 10) == -16\r\n",
        "print(\"OK\")"
      ],
      "execution_count": null,
      "outputs": []
    },
    {
      "cell_type": "markdown",
      "metadata": {
        "id": "iQZF1QJwIxgE"
      },
      "source": [
        "(n) Az előző pontban írt függvényt felhasználva egészítse ki az alábbi függvényt, amely egy adathalmazra vonatkozó átlagos négyzetes hiba deriváltját, azaz a példányonkénti négyzetes hibák átlagát, számolja!"
      ]
    },
    {
      "cell_type": "code",
      "metadata": {
        "id": "QlAOUgtbzZzR"
      },
      "source": [
        "def derivative_of_the_error(w: float, xs: Iterable, ys: Iterable) -> float:\r\n",
        "  \"\"\"\r\n",
        "  Az hiba deriváltja egy adathalmazra \r\n",
        "\r\n",
        "  Bemenet:\r\n",
        "  --------\r\n",
        "    w : float\r\n",
        "      a modell w paramétere\r\n",
        "    xs : Iterable\r\n",
        "      egyváltozós adathalmaz, amely esetében a hiba deriváltját számoljuk\r\n",
        "    ys_true : float\r\n",
        "      a célváltozó értéke az x egyes példányaira\r\n",
        "\r\n",
        "  Kimenet:\r\n",
        "  --------\r\n",
        "    float : a hiba w szerinti deriváltja\r\n",
        "  \"\"\"\r\n",
        "\r\n",
        "  ...IDE JÖN A KÓD..."
      ],
      "execution_count": null,
      "outputs": []
    },
    {
      "cell_type": "code",
      "metadata": {
        "id": "LHHVnqZnJIEm"
      },
      "source": [
        "#test \r\n",
        "assert derivative_of_the_error( 2, [3,4,6], [6, 10, 12]) == -16/3\r\n",
        "print(\"OK\")"
      ],
      "execution_count": null,
      "outputs": []
    },
    {
      "cell_type": "markdown",
      "metadata": {
        "id": "gVJ4DR16KRH8"
      },
      "source": [
        "(o) Fejezze be az alábbi függvényt úgy, hogy gradiens ereszkedés (gradient descent) módszert használva meghatározza a modell *w* paraméterét!"
      ]
    },
    {
      "cell_type": "code",
      "metadata": {
        "id": "Afbt1r2htt8F"
      },
      "source": [
        "def train(xs: Iterable, ys: Iterable, \r\n",
        "          num_epochs: int = 100, eps: float = 1e-5) -> float :\r\n",
        "  \"\"\"\r\n",
        "  Az y_pred = w*x alaku modell paraméterének (w) meghatározása a tanítóadatok\r\n",
        "  alapján\r\n",
        "\r\n",
        "  Bemenet:\r\n",
        "  --------\r\n",
        "    xs : Iterable\r\n",
        "      tanítópéldányok \r\n",
        "    ys : Iterable\r\n",
        "      Az xs példányokhoz tartozó címkék\r\n",
        "    num_epochs : int\r\n",
        "      Tanító epochok száma\r\n",
        "    eps : float\r\n",
        "      Tanulási ráta\r\n",
        "\r\n",
        "  Kimenet\r\n",
        "  -------\r\n",
        "    float : w paraméter értéke\r\n",
        "  \"\"\"\r\n",
        "\r\n",
        "  ...IDE JÖN A KÓD..."
      ],
      "execution_count": null,
      "outputs": []
    },
    {
      "cell_type": "markdown",
      "metadata": {
        "id": "2hHjbhkNUX8-"
      },
      "source": [
        "(p) Fejlessze tovább az előbbi függvényt olyan módon, hogy minden iteráció végén számolja ki a modell RMSE-jét a *w* aktuális értéke mellett a tanítóadatokon és minden 10-dik iteráció után írja ki \r\n",
        "az iteráció számát, az aktuális w-t és az RMSE-t!"
      ]
    },
    {
      "cell_type": "code",
      "metadata": {
        "id": "pZlXb_dEUN4z"
      },
      "source": [
        "def train(xs: Iterable, ys: Iterable, \r\n",
        "          num_epochs: int = 100, eps: float = 1e-5) -> float:\r\n",
        "  \"\"\"\r\n",
        "  Az y_pred = w*x alaku modell paraméterének (w) meghatározása a tanítóadatok\r\n",
        "  alapján\r\n",
        "\r\n",
        "  Bemenet:\r\n",
        "  --------\r\n",
        "    xs : Iterable\r\n",
        "      tanítópéldányok \r\n",
        "    ys : Iterable\r\n",
        "      Az xs példányokhoz tartozó címkék\r\n",
        "    num_epochs : int\r\n",
        "      Tanító epochok száma\r\n",
        "    eps : float\r\n",
        "      Tanulási ráta\r\n",
        "\r\n",
        "  Kimenet\r\n",
        "  -------\r\n",
        "    float : w paraméter értéke\r\n",
        "  \"\"\"\r\n",
        "\r\n",
        "  ...IDE JÖN A KÓD..."
      ],
      "execution_count": null,
      "outputs": []
    },
    {
      "cell_type": "markdown",
      "metadata": {
        "id": "Lrd9yGrTVHSA"
      },
      "source": [
        "(q) Módosítsa ez előbbi függvényt olyan módon, hogy az RMSE és w értékét minden iteráció végén egy-egy listába mentse és végül ezeket a listákat is visszaadja a függvény!"
      ]
    },
    {
      "cell_type": "code",
      "metadata": {
        "id": "lZF8VUQ6UOdB"
      },
      "source": [
        "def train(xs: Iterable, ys: Iterable, \r\n",
        "          num_epochs: int = 100, eps: float = 1e-5) -> Tuple[float, list, list]:\r\n",
        "  \"\"\"\r\n",
        "  Az y_pred = w*x alaku modell paraméterének (w) meghatározása a tanítóadatok\r\n",
        "  alapján\r\n",
        "\r\n",
        "  Bemenet:\r\n",
        "  --------\r\n",
        "    xs : Iterable\r\n",
        "      tanítópéldányok \r\n",
        "    ys : Iterable\r\n",
        "      Az xs példányokhoz tartozó címkék\r\n",
        "    num_epochs : int\r\n",
        "      Tanító epochok száma\r\n",
        "    eps : float\r\n",
        "      Tanulási ráta\r\n",
        "\r\n",
        "  Kimenet\r\n",
        "  -------\r\n",
        "    float : w paraméter értéke\r\n",
        "    list : w paraméter értéke az egyes iterációk végén\r\n",
        "    list : RMSE az egyes iterációk végén\r\n",
        "  \"\"\"\r\n",
        "\r\n",
        "  ...IDE JÖN A KÓD..."
      ],
      "execution_count": null,
      "outputs": []
    },
    {
      "cell_type": "markdown",
      "metadata": {
        "id": "ethsccyiXGuz"
      },
      "source": [
        "A következőkben elvégezzük a tanítást (azaz a *w* paraméter meghatározását), és megjelenítjük az RMSE-t és w-t az iterációszám függvényében."
      ]
    },
    {
      "cell_type": "code",
      "metadata": {
        "id": "yzs6cXo81RN1"
      },
      "source": [
        "w_best, all_w, all_err = train(xs,ys, num_epochs=500)"
      ],
      "execution_count": null,
      "outputs": []
    },
    {
      "cell_type": "code",
      "metadata": {
        "id": "mLaa4kOi3cb6"
      },
      "source": [
        "train_history = pd.DataFrame({'w':all_w, 'err':all_err})"
      ],
      "execution_count": null,
      "outputs": []
    },
    {
      "cell_type": "code",
      "metadata": {
        "id": "Kxo3zGKZ3crE"
      },
      "source": [
        "train_history['err'].plot()"
      ],
      "execution_count": null,
      "outputs": []
    },
    {
      "cell_type": "code",
      "metadata": {
        "id": "erAC1rcU4FUg"
      },
      "source": [
        "train_history['w'].plot()"
      ],
      "execution_count": null,
      "outputs": []
    },
    {
      "cell_type": "markdown",
      "metadata": {
        "id": "OhPU7TkFXi39"
      },
      "source": [
        "Modell és adatok megjelenítése közös diagramon."
      ]
    },
    {
      "cell_type": "code",
      "metadata": {
        "id": "8z3Kb_jB4lDA"
      },
      "source": [
        "ys_pred = [pred(w_best,x) for x in xs]"
      ],
      "execution_count": null,
      "outputs": []
    },
    {
      "cell_type": "code",
      "metadata": {
        "id": "ReiUqcqo4lSk"
      },
      "source": [
        "plt.scatter(xs, ys, marker = 'x');\r\n",
        "plt.plot(xs, ys_pred, color='red', linewidth=3)"
      ],
      "execution_count": null,
      "outputs": []
    },
    {
      "cell_type": "markdown",
      "metadata": {
        "id": "vzOojrBzX-DF"
      },
      "source": [
        "(r) Írassa ki és értelmezze *w* tanítás során megtalált értékét!"
      ]
    },
    {
      "cell_type": "code",
      "metadata": {
        "id": "gs1nmWkV4znK"
      },
      "source": [
        "...IDE JÖN A KÓD..."
      ],
      "execution_count": null,
      "outputs": []
    },
    {
      "cell_type": "markdown",
      "metadata": {
        "id": "4mnifrRtY5H6"
      },
      "source": [
        "**2. feladat: COVID esetszámok előrejelzése többváltozós lineáris regresszióval**"
      ]
    },
    {
      "cell_type": "markdown",
      "metadata": {
        "id": "-frcXueh5jTn"
      },
      "source": [
        "(a) Nyissa meg egy böngészőben a http://www.biointelligence.hu/mi/covid_data.txt URL-en elérhető fájlt, amely kb. másfél hónap COVID-esetszámait tartalmazza Romániára vonatkozóan. A fájl szemrevételezése alapján paraméterezze a fájlt pandas DataFrame-be betöltő parancsot!"
      ]
    },
    {
      "cell_type": "code",
      "metadata": {
        "id": "mxvKiQXLiVE5"
      },
      "source": [
        "header = ...IDE JÖN A KÓD...\r\n",
        "separator = ...IDE JÖN A KÓD...\r\n",
        "data = pd.read_csv('http://www.biointelligence.hu/mi/covid_data.txt', \r\n",
        "                   header=header, sep=separator)"
      ],
      "execution_count": null,
      "outputs": []
    },
    {
      "cell_type": "markdown",
      "metadata": {
        "id": "7iFRs4fR6ydx"
      },
      "source": [
        "(b) A DataFrame head() metódusát használva jelenítse meg a betöltött adatokat és ellenőrizze, hogy megfelelően sikerült-e az adatok betöltése!"
      ]
    },
    {
      "cell_type": "code",
      "metadata": {
        "id": "jmzDMMJqcQAS"
      },
      "source": [
        "...IDE JÖN A KÓD..."
      ],
      "execution_count": null,
      "outputs": []
    },
    {
      "cell_type": "markdown",
      "metadata": {
        "id": "rg0LNLb87H4m"
      },
      "source": [
        "(c) Hajtsa végre az alábbi kódot az adatok megjelenítéséhez. Mit látunk az ábrán? Módosítsa a kódot olyan módon, hogy a vízszintes (x) tengely mentén ne hetente, hanem kéthetente legyenek az osztáspontok, a diagram alatti terület zöld színnel legyen kitöltve, valamint a függőleges tengely felirata \"Esetszám\" legyen!"
      ]
    },
    {
      "cell_type": "code",
      "metadata": {
        "id": "W_bPja1Eieh7"
      },
      "source": [
        "ax = data['cases'].plot(figsize=(15,5), grid=True, x_compat=True)\r\n",
        "ax.set_xticks( list(range(0,50,7)) )\r\n",
        "ax.set_xticklabels( [ data['date'][0], data['date'][7], data['date'][14], \r\n",
        "                      data['date'][21], data['date'][28], data['date'][35], \r\n",
        "                      data['date'][42], data['date'][49] ] )\r\n",
        "ax.set_xlabel(\"Dátum\")\r\n",
        "plt.fill_between(data['date'], data['cases'], facecolor='b', alpha=0.3)"
      ],
      "execution_count": null,
      "outputs": []
    },
    {
      "cell_type": "markdown",
      "metadata": {
        "id": "oBvAlKET7vmr"
      },
      "source": [
        "Az adatok tanulmányozása alapján azt látjuk, hogy az esetszám heti periodicitást mutat. Ebből arra következtetünk, hogy akármilyen előrejelző modellt is használunk, legalább egyheti bemeneti adatra van szükségünk ahhoz, hogy értelmes előrejelzést végezhessünk. Annak érdekében, hogy a modell a trendet (növekvő vagy csökkenő) is képes legyen megtanulni, úgy döntünk, hogy összesen kétheti adatot fogunk bemeneti adatként használni. A modell bemenete tehát egy 14 hosszúságú *x = (x0, x1, ..., x13)* vektor lesz, amely az előző napok esetszámait fogja tartalmazni, pontosabban: x13 = aktuális napi esetszám, x12 = aktuális napot egyel megelőző napi esetszám, x11 = aktuális napot 2-vel megelőző napi esetszám, stb. Az *y* célváltozó értéke a kövekező napi esetszám. A múltbeli adatokra ismerjük a célváltozó értékét. A múltbeli adatokból a következő módon hozunk létre tanítóadatokat: \r\n",
        "\r\n",
        "- első tanítópéldány: jan. 20-tól febr. 2-ig tartó esetszámok (az adatbázisban szereplő első 14 nap esetszáma), a célváltozó értéke ennél a példánynál: febr. 3-i esetszám,\r\n",
        "\r\n",
        "- második tanítópéldány: jan. 21-től febr. 3-ig tartó esetszámok, a célváltozó értéke ennél a példánynál: febr. 4-i esetszám, \r\n",
        "\r\n",
        "- és így tovább.\r\n"
      ]
    },
    {
      "cell_type": "code",
      "metadata": {
        "id": "du4f9qFXjXMJ"
      },
      "source": [
        "NUM_FEATURES = 14\r\n",
        "NUM_INSTANCES = len(data) - NUM_FEATURES"
      ],
      "execution_count": null,
      "outputs": []
    },
    {
      "cell_type": "markdown",
      "metadata": {
        "id": "eHycziCY-7bo"
      },
      "source": [
        "(d) Írjon egy függvényt, amely 14 egymást követő nap esetszámát visszaadja egy np.array-ben! A függvény bemenete, hogy a DataFrame-ben szereplő hányadik nap esetszáma legyen az első érték a visszaadott np.array-ben."
      ]
    },
    {
      "cell_type": "code",
      "metadata": {
        "id": "cdaRMZQVoFgM"
      },
      "source": [
        "def get_instance(i: int) -> np.array:\r\n",
        "  \"\"\"\r\n",
        "  14 egymást követő nap esetszáma\r\n",
        "\r\n",
        "  Bemenet:\r\n",
        "  --------\r\n",
        "    i : int\r\n",
        "      Kezdőnap\r\n",
        "      \r\n",
        "  Kimenet:\r\n",
        "  --------\r\n",
        "    np.array:    \r\n",
        "      az i-dik napi és azt követő 13 napi esetszám\r\n",
        "  \"\"\"\r\n",
        "  \r\n",
        "  return ...IDE JÖN A KÓD..."
      ],
      "execution_count": null,
      "outputs": []
    },
    {
      "cell_type": "markdown",
      "metadata": {
        "id": "e5ggH4VeACDW"
      },
      "source": [
        "(e) Írjon egy függvényt, amely előállítja a tanítóadatként szolgáló adattáblát! (Az adattábla egy-egy sora egy-egy tanítópéldányt tartalmazzon!)"
      ]
    },
    {
      "cell_type": "code",
      "metadata": {
        "id": "nQFszEP5oYsd"
      },
      "source": [
        "def get_xs() -> np.array:\r\n",
        "  \"\"\"\r\n",
        "  Kimenet:\r\n",
        "  --------\r\n",
        "    np.array: a tanítóadatokat tartalmazó adattábla\r\n",
        "  \"\"\"\r\n",
        "\r\n",
        "  ...IDE JÖN A KÓD..."
      ],
      "execution_count": null,
      "outputs": []
    },
    {
      "cell_type": "code",
      "metadata": {
        "id": "r5cP9W9moZCT"
      },
      "source": [
        "xs = get_xs()"
      ],
      "execution_count": null,
      "outputs": []
    },
    {
      "cell_type": "markdown",
      "metadata": {
        "id": "9bVVKWEvArQz"
      },
      "source": [
        "(f) Írjon egy függvényt, amely a célváltozó egyes példányokhoz tartozó értékeit állítja elő!"
      ]
    },
    {
      "cell_type": "code",
      "metadata": {
        "id": "wN3dYPm9oZIN"
      },
      "source": [
        "def get_ys() -> np.array:\r\n",
        "  \"\"\"\r\n",
        "  Kimenet\r\n",
        "  -------\r\n",
        "    np.array : a célváltozó egyes példányokhoz tartozó értékei\r\n",
        "  \"\"\"\r\n",
        "  ...IDE JÖN A KÓD..."
      ],
      "execution_count": null,
      "outputs": []
    },
    {
      "cell_type": "code",
      "metadata": {
        "id": "_JStRjb0oZPo"
      },
      "source": [
        "ys = get_ys()"
      ],
      "execution_count": null,
      "outputs": []
    },
    {
      "cell_type": "code",
      "metadata": {
        "id": "-bDZ2OM3k_aG"
      },
      "source": [
        "# self check\r\n",
        "assert len(ys) == len(xs)\r\n",
        "assert len(xs) == NUM_INSTANCES"
      ],
      "execution_count": null,
      "outputs": []
    },
    {
      "cell_type": "markdown",
      "metadata": {
        "id": "1OWzFdj-BT_q"
      },
      "source": [
        "(g) Írja meg a többváltozós lineáris regressziós modell predikcióját számító függvényt!"
      ]
    },
    {
      "cell_type": "code",
      "metadata": {
        "id": "q_WlYrL1pbGV"
      },
      "source": [
        "def pred(w: np.array, x: np.array) -> float:\r\n",
        "  \"\"\" \r\n",
        "  Az y_pred = w_0*x_0 + w_1*x_1 + ... + w_n*x_n alaku modell által prediktált érték \r\n",
        "  kiszámítása\r\n",
        "\r\n",
        "  Bemenet: \r\n",
        "  -------\r\n",
        "    w : np.array\r\n",
        "      a modell paraméterei w_0, w_1, ..., w_n\r\n",
        "    x : np.array\r\n",
        "      azon x példány, x = (x_0, x_1, ..., x_n), amelyhez tartozó predikciót ki \r\n",
        "      akarjuk számolni\r\n",
        "\r\n",
        "  Kimenet:\r\n",
        "  --------\r\n",
        "    float : a prediktált érték \r\n",
        "  \"\"\"\r\n",
        "\r\n",
        "  ...IDE JÖN A KÓD..."
      ],
      "execution_count": null,
      "outputs": []
    },
    {
      "cell_type": "code",
      "metadata": {
        "id": "v44T2P_lpcv6"
      },
      "source": [
        "# test\r\n",
        "assert pred(np.array([0.5, 1, 0.5, 2]), np.array([1, 3, 4, 5])) == 15.5"
      ],
      "execution_count": null,
      "outputs": []
    },
    {
      "cell_type": "markdown",
      "metadata": {
        "id": "BpoicsP1CO01"
      },
      "source": [
        "(h) Írja meg a hiba parciális deriváltjait egy adott példányra kiszámító függvényt! \r\n",
        "\r\n",
        "Segítség:  \r\n",
        "\r\n",
        "d_i = 2 * (y_pred - y_true) * x_i\r\n",
        "\r\n",
        "ahol d_i = i-dik parciális derivált, x_i = az x példány i-dik változójának értéke."
      ]
    },
    {
      "cell_type": "code",
      "metadata": {
        "id": "XHcv_XM3pedy"
      },
      "source": [
        "def derivative_of_the_error_for_an_instance(w: np.array, x: np.array, \r\n",
        "                                            y_true: float) -> np.array:\r\n",
        "  \"\"\"\r\n",
        "  A hiba deriváltja egy példány esetében\r\n",
        "\r\n",
        "  Bemenet:\r\n",
        "  --------\r\n",
        "    w : np.array\r\n",
        "      a modell paraméterei w_0, w_1, ..., w_n\r\n",
        "    x : np.array\r\n",
        "      azon x példány, x = (x_0, x_1, ..., x_n), amely esetében a hiba deriváltját \r\n",
        "      számoljuk\r\n",
        "    y_true : float\r\n",
        "      a célváltozó értéke az x példány esetében\r\n",
        "\r\n",
        "  Kimenet:\r\n",
        "  --------\r\n",
        "    np.array : a hiba w_0, w_1, ... w_n szerinti parciális deriváltjainak értéke\r\n",
        "      az adott példányra \r\n",
        "  \"\"\"\r\n",
        "  \r\n",
        "  ...IDE JÖN A KÓD..."
      ],
      "execution_count": null,
      "outputs": []
    },
    {
      "cell_type": "code",
      "metadata": {
        "id": "IqUquLZ8rxkl"
      },
      "source": [
        "#test\r\n",
        "\r\n",
        "from numpy.testing import assert_array_equal\r\n",
        "\r\n",
        "model_params = np.array([0.5, 1, 0.5, 2])\r\n",
        "instance = np.array([1, 3, 4, 5])\r\n",
        "true_label = 10.5\r\n",
        "\r\n",
        "derivatives_expected = np.array([10, 30, 40, 50])\r\n",
        "\r\n",
        "derivatives_received = derivative_of_the_error_for_an_instance(\r\n",
        "    model_params, instance, true_label)\r\n",
        "\r\n",
        "assert_array_equal(derivatives_received, derivatives_expected)"
      ],
      "execution_count": null,
      "outputs": []
    },
    {
      "cell_type": "markdown",
      "metadata": {
        "id": "BDo3l5stDlF7"
      },
      "source": [
        "(i) A hiba deriváltja a teljes adatbázisra a példányonkénti parciális  deriváltak értékeinek átlaga, azaz pl. w_0 szerinti parciális derivált értéke a tejles adatbázisra egyenlő a w_0 szerinti példányonkénti parciális deriváltak értékeinek átlagával. Írja meg a parciális deriváltakat a teljes adatbázisra számoló függvényt!"
      ]
    },
    {
      "cell_type": "code",
      "metadata": {
        "id": "-Zz-U-YNsWcp"
      },
      "source": [
        "def derivative_of_the_error(w: np.array, xs: np.array, \r\n",
        "                            ys: np.array) -> np.array:\r\n",
        "  \"\"\"\r\n",
        "  A hiba deriváltja egy adattábla példányaira\r\n",
        "\r\n",
        "  Bemenet:\r\n",
        "  --------\r\n",
        "    w : np.array\r\n",
        "      a modell paraméterei w_0, w_1, ..., w_n\r\n",
        "    xs : np.array\r\n",
        "      az adattábla, amelynek példányaira vonatkozóan a hiba deriváltját \r\n",
        "      számoljuk\r\n",
        "    ys : np.array\r\n",
        "      a célváltozó értéke az xs példányai esetében\r\n",
        "\r\n",
        "  Kimenet:\r\n",
        "  --------\r\n",
        "    np.array : a hiba w_0, w_1, ... w_n szerinti parciális deriváltjainak értéke\r\n",
        "      az xs adattábla példányaira nézve\r\n",
        "  \"\"\"\r\n",
        "\r\n",
        "  ...IDE JÖN A KÓD..."
      ],
      "execution_count": null,
      "outputs": []
    },
    {
      "cell_type": "code",
      "metadata": {
        "id": "7jJDTSxfwD7E"
      },
      "source": [
        "#test\r\n",
        "model_params = np.array([0.5, 1, 0.5, 2])\r\n",
        "instances = np.array([[1, 3, 4, 5], [2, 6, 8, 10]])\r\n",
        "true_labels = np.array([10.5, 31])\r\n",
        "\r\n",
        "derivatives_expected = np.array([5, 15, 20, 25])\r\n",
        "\r\n",
        "derivatives_received = derivative_of_the_error(\r\n",
        "    model_params, instances, true_labels)\r\n",
        "\r\n",
        "assert_array_equal(derivatives_received, derivatives_expected)"
      ],
      "execution_count": null,
      "outputs": []
    },
    {
      "cell_type": "markdown",
      "metadata": {
        "id": "FNYtKEMNE8KE"
      },
      "source": [
        "(j) Az 1. feladatbelihez hasonlóan írja meg a modell tanítását (azaz a paraméterek értékeinek meghatározását) végző függvényt!"
      ]
    },
    {
      "cell_type": "code",
      "metadata": {
        "id": "tT1oa3yCwqZX"
      },
      "source": [
        "def train(xs: np.array, ys: np.array, \r\n",
        "          num_epochs: int = 100, eps: float = 1e-5) -> Tuple[float, list, list]:\r\n",
        "  \"\"\"\r\n",
        "  Az y_pred = w*x alaku modell paraméterének (w) meghatározása a tanítóadatok\r\n",
        "  alapján\r\n",
        "\r\n",
        "  Bemenet:\r\n",
        "  --------\r\n",
        "    xs : Iterable\r\n",
        "      tanítópéldányok \r\n",
        "    ys : Iterable\r\n",
        "      Az xs példányokhoz tartozó címkék\r\n",
        "    num_epochs : int\r\n",
        "      Tanító epochok száma\r\n",
        "    eps : float\r\n",
        "      Tanulási ráta\r\n",
        "\r\n",
        "  Kimenet\r\n",
        "  -------\r\n",
        "    float : w paraméter értéke\r\n",
        "    list : w paraméter értéke az egyes iterációk végén\r\n",
        "    list : RMSE az egyes iterációk végén\r\n",
        "  \"\"\"\r\n",
        "\r\n",
        "  ...IDE JÖN A KÓD..."
      ],
      "execution_count": null,
      "outputs": []
    },
    {
      "cell_type": "markdown",
      "metadata": {
        "id": "MBnTWMksF65w"
      },
      "source": [
        "(k) A tanítófüggvény többszöri meghívása és a hiba iterációszám függvényében történő ábrázolását felhasználva, határozza meg a tanítási paraméterek, az epochok száma (num_epochs) és a tanulási ráta (eps) megfelelő értékeit!"
      ]
    },
    {
      "cell_type": "code",
      "metadata": {
        "id": "blOEq6XLy-wN"
      },
      "source": [
        "...IDE JÖN A KÓD..."
      ],
      "execution_count": null,
      "outputs": []
    },
    {
      "cell_type": "markdown",
      "metadata": {
        "id": "IEAxHWAzF6GW"
      },
      "source": [
        "(l) Az adatbázisban szereplő utolsó érték a márc. 13-i esetszám. \"Jelezzük\" előre az esetszámot márc. 14-re!"
      ]
    },
    {
      "cell_type": "code",
      "metadata": {
        "id": "mlrDBEwBzZuQ"
      },
      "source": [
        "...IDE JÖN A KÓD..."
      ],
      "execution_count": null,
      "outputs": []
    },
    {
      "cell_type": "markdown",
      "metadata": {
        "id": "3bdEr0OKHN9d"
      },
      "source": [
        "**Diszkusszió**\r\n",
        "\r\n",
        "Hogyan végeznénk előrejelzést több napra?"
      ]
    },
    {
      "cell_type": "markdown",
      "metadata": {
        "id": "HxJPsv6bHoez"
      },
      "source": [
        "**Lineáris Regresszió standard függvénykönyvtárakban**\r\n",
        "\r\n",
        "A lineáris regresszió implementáció természetesen megtalálható standard függvénykönyvtárakban, pl. scikit-learn-ben is. Tanulmányozzuk a\r\n",
        "\r\n",
        "https://scikit-learn.org/stable/modules/generated/sklearn.linear_model.LinearRegression.html \r\n",
        "\r\n",
        "címen található példát!"
      ]
    }
  ]
}