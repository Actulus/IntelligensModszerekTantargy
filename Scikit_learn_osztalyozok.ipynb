{
  "nbformat": 4,
  "nbformat_minor": 0,
  "metadata": {
    "colab": {
      "name": "Scikit learn osztalyozok.ipynb",
      "provenance": [],
      "collapsed_sections": [],
      "authorship_tag": "ABX9TyOragMgSmCj5g+YTH+KK5rU",
      "include_colab_link": true
    },
    "kernelspec": {
      "name": "python3",
      "display_name": "Python 3"
    },
    "language_info": {
      "name": "python"
    }
  },
  "cells": [
    {
      "cell_type": "markdown",
      "metadata": {
        "id": "view-in-github",
        "colab_type": "text"
      },
      "source": [
        "<a href=\"https://colab.research.google.com/github/kr7/IntelligensModszerekTantargy/blob/main/Scikit_learn_osztalyozok.ipynb\" target=\"_parent\"><img src=\"https://colab.research.google.com/assets/colab-badge.svg\" alt=\"Open In Colab\"/></a>"
      ]
    },
    {
      "cell_type": "code",
      "metadata": {
        "id": "xzKzsAR_UFpP"
      },
      "source": [
        "import numpy as np"
      ],
      "execution_count": null,
      "outputs": []
    },
    {
      "cell_type": "markdown",
      "metadata": {
        "id": "YwQCrTtlX0ax"
      },
      "source": [
        "**1. feladat: adatok betöltése**\n",
        "\n",
        "(a) Az adatok szemrevételezésével határozza meg az elválasztókarakter (delimiter) értékét!"
      ]
    },
    {
      "cell_type": "code",
      "metadata": {
        "id": "lWNXooILXfDB"
      },
      "source": [
        ""
      ],
      "execution_count": null,
      "outputs": []
    },
    {
      "cell_type": "code",
      "metadata": {
        "id": "wKh8sAGWXmW2"
      },
      "source": [
        ""
      ],
      "execution_count": null,
      "outputs": []
    },
    {
      "cell_type": "code",
      "metadata": {
        "id": "vAaBdX5xU_CS"
      },
      "source": [
        "delimiter = ...IDE JÖN A KÓD...\n",
        "data_with_labels = np.loadtxt('https://archive.ics.uci.edu/ml/machine-learning-databases/spambase/spambase.data', delimiter=delimiter)"
      ],
      "execution_count": null,
      "outputs": []
    },
    {
      "cell_type": "code",
      "metadata": {
        "id": "jYMHHH97W2lV"
      },
      "source": [
        ""
      ],
      "execution_count": null,
      "outputs": []
    },
    {
      "cell_type": "markdown",
      "metadata": {
        "id": "ymChY_AHXMra"
      },
      "source": [
        "(b) Az utolsó oszlop tartalmazza a célvátozó (más néven: címke, label) értékét (a konkrét esetben azt, hogy az adott e-mail spam-e vagy sem). Válassza le a célváltozót az adatokról, azaz hozzon létre *data*  ill. *labels* elnevezésű np.array-eket, amelyek csak az adatokat (célvátozó nélkül) illetve csak a célváltozót tartalmazzák! Ellenőrizze az eredeti és a létrehozott tömbök méretét!"
      ]
    },
    {
      "cell_type": "code",
      "metadata": {
        "id": "V51CQFArVI6B"
      },
      "source": [
        "data = ...IDE JÖN A KÓD...\n",
        "labels = ...IDE JÖN A KÓD..."
      ],
      "execution_count": null,
      "outputs": []
    },
    {
      "cell_type": "code",
      "metadata": {
        "id": "tCCJIpTlW-16"
      },
      "source": [
        "...IDE JÖN A KÓD..."
      ],
      "execution_count": null,
      "outputs": []
    },
    {
      "cell_type": "code",
      "metadata": {
        "id": "-pRZaHl0XAoG"
      },
      "source": [
        "...IDE JÖN A KÓD..."
      ],
      "execution_count": null,
      "outputs": []
    },
    {
      "cell_type": "markdown",
      "metadata": {
        "id": "ogSu9qrvYsfe"
      },
      "source": [
        "(c) Bontsa fel az adatokat és a hozzájuk tartozó címkéket tanító- és tesztadatokra. Minden 5-dik példány, azaz a 4, 9, 14... indexű példányok kerüljenek a teszthalmazba, a többi pedig a tanítóhalmazba! Ehhez első lépésként hozzon létre két np.array-t, amelyek a tanító és tesztpéldányok indexeit tartalmazzák, majd ezeket használva bontsa fel az adatokat és címkéket tanító- és tesztadatokra *data_train*, *data_test* ill. *labels_train* és *labels_test* néven!"
      ]
    },
    {
      "cell_type": "code",
      "metadata": {
        "id": "xq_mH_IuYsJR"
      },
      "source": [
        "test_indices = ...IDE JÖN A KÓD...\n",
        "train_indices = ...IDE JÖN A KÓD..."
      ],
      "execution_count": null,
      "outputs": []
    },
    {
      "cell_type": "code",
      "metadata": {
        "id": "Yk5IkgtMXHUP"
      },
      "source": [
        "data_train   = ...IDE JÖN A KÓD...\n",
        "data_test    = ...IDE JÖN A KÓD...\n",
        "labels_train = ...IDE JÖN A KÓD...\n",
        "labels_test  = ...IDE JÖN A KÓD..."
      ],
      "execution_count": null,
      "outputs": []
    },
    {
      "cell_type": "markdown",
      "metadata": {
        "id": "B3QPIFjJcBLY"
      },
      "source": [
        "(d) Az operációs rendszer *wget* parancsával töltse le a \n",
        "\n",
        "https://archive.ics.uci.edu/ml/machine-learning-databases/spambase/spambase.names \n",
        "\n",
        "fájlt és jelenítse meg az első 50 sorát a *head* paranccsal!\n",
        "\n",
        "Olvassa be a fájlból az oszlopneveket a *column_names* tömbbe!\n",
        "(Segítség: legelső oszlop neve a fájl 34-dik sorában található.)"
      ]
    },
    {
      "cell_type": "code",
      "metadata": {
        "id": "HLCNNrMjZuZv"
      },
      "source": [
        "...IDE JÖN A KÓD..."
      ],
      "execution_count": null,
      "outputs": []
    },
    {
      "cell_type": "code",
      "metadata": {
        "id": "2pLjiOApbW8_"
      },
      "source": [
        "...IDE JÖN A KÓD..."
      ],
      "execution_count": null,
      "outputs": []
    },
    {
      "cell_type": "code",
      "metadata": {
        "id": "pkp_lmaJbkjl"
      },
      "source": [
        "column_names = []\n",
        "\n",
        "...IDE JÖN A KÓD..."
      ],
      "execution_count": null,
      "outputs": []
    },
    {
      "cell_type": "code",
      "metadata": {
        "id": "bnA7hpq1cjyP"
      },
      "source": [
        "column_names"
      ],
      "execution_count": null,
      "outputs": []
    },
    {
      "cell_type": "markdown",
      "metadata": {
        "id": "uf2ZH4t-d6iU"
      },
      "source": [
        "**2. feladat: logisztikus regresszió**\n",
        "\n",
        "(a) Egészítse ki a kódot azzal, hogy kiszámolja azaz osztályozó pontosságát, azaz a helyesen prediktált tesztpéldányok arányát!\n",
        "\n",
        "(b) Alapbeállítás szerint mennyi a komplexitási tényező (C) értéke? Tanulmányozza a dokumentációt: https://scikit-learn.org/stable/modules/generated/sklearn.linear_model.LogisticRegression.html . Állítsa C értékét 10-re, tanítsa a modellt és mérje le a pontosságát a teszt halmazon!"
      ]
    },
    {
      "cell_type": "code",
      "metadata": {
        "id": "Z-cGweULc5B4"
      },
      "source": [
        "from sklearn.linear_model import LogisticRegression"
      ],
      "execution_count": null,
      "outputs": []
    },
    {
      "cell_type": "code",
      "metadata": {
        "id": "W2NQboogeJGn"
      },
      "source": [
        "model = LogisticRegression()\n",
        "model.fit(data_train, labels_train)"
      ],
      "execution_count": null,
      "outputs": []
    },
    {
      "cell_type": "code",
      "metadata": {
        "id": "Yu3xiI-ReSWu"
      },
      "source": [
        "pred = model.predict(data_test)"
      ],
      "execution_count": null,
      "outputs": []
    },
    {
      "cell_type": "code",
      "metadata": {
        "id": "Y7NKoj-8efOG"
      },
      "source": [
        "...IDE JÖN A KÓD..."
      ],
      "execution_count": null,
      "outputs": []
    },
    {
      "cell_type": "markdown",
      "metadata": {
        "id": "EYVOrvOvhMDz"
      },
      "source": [
        "**3. feladat: Neurális hálók**\n",
        "\n",
        "A scikit-learn osztályozói standard interface-t valósítanak meg, rendelkeznek többek között *fit* és *predict* metódusokkal (a modell tanításához ill. új adatra történő predikciók számításához). \n",
        "\n",
        "(a) Annak ismeretében, hogy az előrecsatolt neurális hálókat a *sklearn.neural_network* csomagon belüli *MLPClassifier* (multilayer perceptron classifer) elnevezésű osztály implementálja, tanítson egy neurális hálót a spam felismerési feladatra és mérje le a háló pontosságát!\n",
        "\n",
        "(b) Hány belső (rejtett) réteggel rendelkezik a tanított háló? Mennyi a unitok száma az egyes rétegekben? Változtassa meg a háló architektúráját úgy, hogy két rejtett réteggel rendelkezzen és mindkét rétegben 10-10 unit legyen! Tanítsa és értékelje ki a modellt!\n",
        "\n",
        "(c) Változtassa meg az aktivációs függvényt a szigmoid függvényre, tanítsa és értékelje ki a modellt!\n",
        "\n",
        "(d) A pytorch-beli neurális hálókkal összehasonlítva, mit mondana a scikit-learn-beli implementációról? Melyikkel könnyebb dolgozni? "
      ]
    },
    {
      "cell_type": "code",
      "metadata": {
        "id": "7sxcxuh7ek3h"
      },
      "source": [
        "...IDE JÖN A KÓD..."
      ],
      "execution_count": null,
      "outputs": []
    },
    {
      "cell_type": "code",
      "metadata": {
        "id": "QjdIsMEEe2g6"
      },
      "source": [
        "...IDE JÖN A KÓD..."
      ],
      "execution_count": null,
      "outputs": []
    },
    {
      "cell_type": "code",
      "metadata": {
        "id": "qAxLBAfI3ZB3"
      },
      "source": [
        "...IDE JÖN A KÓD..."
      ],
      "execution_count": null,
      "outputs": []
    },
    {
      "cell_type": "code",
      "metadata": {
        "id": "vSZjB2mf3cV9"
      },
      "source": [
        "...IDE JÖN A KÓD..."
      ],
      "execution_count": null,
      "outputs": []
    },
    {
      "cell_type": "markdown",
      "metadata": {
        "id": "i_C8YncKFASb"
      },
      "source": [
        "**4. feladat: legközelebbi szomszéd osztályozó**\n",
        "\n",
        "A legközelebbi szoszéd osztályozót az *sklearn.neighbors* csomagon belüli *KNeighborsClassifier* implementálja.\n",
        "\n",
        "(a) Osztályozza a tesztadatok legközelebbi szomszéd osztályozóval és mérje le az osztályozó pontosságát! \n",
        "\n",
        "(b) Mit jelent a \"tanítás\" a legközelebbi szomszéd osztályozó esetében? Mi történik a *fit* metódus meghívásakor?\n",
        "\n",
        "(c) Mennyi volt az előző alkalommal a legközelebbi szomszédok száma? Milyen eredményt kapunk, ha a legközelebbi szomszédok számát 1-re vagy 10-re állítjuk?\n",
        "\n",
        "(d) Az ún. *Minkowski távolság* az euklideszi távolság és Manhattan-távolság közös általánosítása: p=2 mellett adódik az euklideszi távolság, p=1-re pedig a Manhattan távolság. Használjon Manhattan távolságot az osztályozás során!"
      ]
    },
    {
      "cell_type": "code",
      "metadata": {
        "id": "OTwem9CD3gKE"
      },
      "source": [
        "...IDE JÖN A KÓD..."
      ],
      "execution_count": null,
      "outputs": []
    },
    {
      "cell_type": "code",
      "metadata": {
        "id": "0rrxjITRFs80"
      },
      "source": [
        "...IDE JÖN A KÓD..."
      ],
      "execution_count": null,
      "outputs": []
    },
    {
      "cell_type": "code",
      "metadata": {
        "id": "EX0a04INFzeI"
      },
      "source": [
        "...IDE JÖN A KÓD..."
      ],
      "execution_count": null,
      "outputs": []
    },
    {
      "cell_type": "code",
      "metadata": {
        "id": "95vZIE0sF0FG"
      },
      "source": [
        "...IDE JÖN A KÓD..."
      ],
      "execution_count": null,
      "outputs": []
    },
    {
      "cell_type": "markdown",
      "metadata": {
        "id": "4BgSAj3RK-fI"
      },
      "source": [
        "**5. feladat: Naive Bayes**\n",
        "\n",
        "A naive Bayes osztályozó (egyik változatát) az *sklearn.naive_bayes* csomagon belüli *GaussianNB* implementálja. Tanítson egy *GaussianNB*-t és mérje le az osztályozó pontosságát! "
      ]
    },
    {
      "cell_type": "code",
      "metadata": {
        "id": "L01QEauvF1qg"
      },
      "source": [
        "...IDE JÖN A KÓD..."
      ],
      "execution_count": null,
      "outputs": []
    },
    {
      "cell_type": "code",
      "metadata": {
        "id": "gjLOYuwCHoje"
      },
      "source": [
        "...IDE JÖN A KÓD..."
      ],
      "execution_count": null,
      "outputs": []
    },
    {
      "cell_type": "code",
      "metadata": {
        "id": "lKat6IL4LPAX"
      },
      "source": [
        "...IDE JÖN A KÓD..."
      ],
      "execution_count": null,
      "outputs": []
    },
    {
      "cell_type": "code",
      "metadata": {
        "id": "-DNVFCLaLQkF"
      },
      "source": [
        "...IDE JÖN A KÓD..."
      ],
      "execution_count": null,
      "outputs": []
    },
    {
      "cell_type": "markdown",
      "metadata": {
        "id": "eZDXELDtL9NK"
      },
      "source": [
        "**6. feladat: Döntési fák**\n",
        "\n",
        "(a) A döntési fákat az sklearn.tree csomagon belüli DecisionTreeClassifier implementálja. Készítsen egy döntési fát és mérje le az osztályozó pontosságát!\n",
        "\n",
        "(b) Módosítsa az előbbi kódot úgy, hogy a létrehozott döntési fa mélysége legfeljebb 4 legyen!"
      ]
    },
    {
      "cell_type": "code",
      "metadata": {
        "id": "oxUGUACWLTIh"
      },
      "source": [
        "...IDE JÖN A KÓD..."
      ],
      "execution_count": null,
      "outputs": []
    },
    {
      "cell_type": "code",
      "metadata": {
        "id": "3M5zz_0DMF5c"
      },
      "source": [
        "...IDE JÖN A KÓD..."
      ],
      "execution_count": null,
      "outputs": []
    },
    {
      "cell_type": "code",
      "metadata": {
        "id": "99EiH6fVQUbt"
      },
      "source": [
        "...IDE JÖN A KÓD..."
      ],
      "execution_count": null,
      "outputs": []
    },
    {
      "cell_type": "code",
      "metadata": {
        "id": "4gJu5P0MQXMc"
      },
      "source": [
        "...IDE JÖN A KÓD..."
      ],
      "execution_count": null,
      "outputs": []
    },
    {
      "cell_type": "markdown",
      "metadata": {
        "id": "75wbG9HhRz6R"
      },
      "source": [
        "A döntési fa ábrázolása"
      ]
    },
    {
      "cell_type": "code",
      "metadata": {
        "id": "te-FrfA2Oqo3"
      },
      "source": [
        "from sklearn.externals.six import StringIO\n",
        "from sklearn.tree import export_graphviz\n",
        "import pydot\n",
        "from IPython.display import Image\n",
        "\n",
        "dot_data = StringIO()\n",
        "export_graphviz(model, out_file=dot_data, feature_names=column_names, \\\n",
        "                    class_names=['not spam', 'spam'], filled=True, rounded=True, \\\n",
        "                    special_characters=True)\n",
        "graph = pydot.graph_from_dot_data(dot_data.getvalue())\n",
        "Image(graph[0].create_png())"
      ],
      "execution_count": null,
      "outputs": []
    },
    {
      "cell_type": "code",
      "metadata": {
        "id": "ee-a-w-uOzfR"
      },
      "source": [
        ""
      ],
      "execution_count": null,
      "outputs": []
    }
  ]
}