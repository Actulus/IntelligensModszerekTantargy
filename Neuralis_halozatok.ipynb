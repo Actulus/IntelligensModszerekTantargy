{
  "nbformat": 4,
  "nbformat_minor": 0,
  "metadata": {
    "colab": {
      "name": "Neuralis halozatok.ipynb",
      "provenance": [],
      "collapsed_sections": [],
      "authorship_tag": "ABX9TyMjz9ws+kVtJUmcGP47YmzI",
      "include_colab_link": true
    },
    "kernelspec": {
      "name": "python3",
      "display_name": "Python 3"
    },
    "language_info": {
      "name": "python"
    }
  },
  "cells": [
    {
      "cell_type": "markdown",
      "metadata": {
        "id": "view-in-github",
        "colab_type": "text"
      },
      "source": [
        "<a href=\"https://colab.research.google.com/github/kr7/IntelligensModszerekTantargy/blob/main/Neuralis_halozatok.ipynb\" target=\"_parent\"><img src=\"https://colab.research.google.com/assets/colab-badge.svg\" alt=\"Open In Colab\"/></a>"
      ]
    },
    {
      "cell_type": "code",
      "metadata": {
        "id": "0YORYkQQ69o9"
      },
      "source": [
        "import numpy as np\n",
        "import matplotlib.pyplot as plt\n",
        "import torch\n",
        "import torch.nn as nn\n",
        "import torch.nn.functional as F\n",
        "import torch.optim as optim\n",
        "\n",
        "from google.colab import widgets"
      ],
      "execution_count": null,
      "outputs": []
    },
    {
      "cell_type": "markdown",
      "metadata": {
        "id": "MM0lurY3SuYL"
      },
      "source": [
        "**Adatok betöltése és megjelenítése**"
      ]
    },
    {
      "cell_type": "code",
      "metadata": {
        "id": "D1X-09ZG7sbM"
      },
      "source": [
        "data = np.loadtxt('https://archive.ics.uci.edu/ml/machine-learning-databases/semeion/semeion.data')"
      ],
      "execution_count": null,
      "outputs": []
    },
    {
      "cell_type": "code",
      "metadata": {
        "id": "TL_vrHC0_mFb"
      },
      "source": [
        "data"
      ],
      "execution_count": null,
      "outputs": []
    },
    {
      "cell_type": "markdown",
      "metadata": {
        "id": "-WtBAfGBTTTY"
      },
      "source": [
        "Az adatok megjelenítéséhez megismerjük a matplotlib.pyplot-beki imshow() függvényt. Nézzük meg, hogyan jelennek meg a következő numpy tömbök."
      ]
    },
    {
      "cell_type": "code",
      "metadata": {
        "id": "q_GGNzRXS2E4"
      },
      "source": [
        "plt.imshow(np.array( [[0, 0, 0, 1],\n",
        "                      [0, 0, 1, 0],\n",
        "                      [0, 1, 0, 0],\n",
        "                      [1, 0, 0, 0]]) )\n",
        "plt.show()"
      ],
      "execution_count": null,
      "outputs": []
    },
    {
      "cell_type": "code",
      "metadata": {
        "id": "d0t8ZWwwTnxh"
      },
      "source": [
        "plt.imshow(np.array( [[1, 0, 0, 0],\n",
        "                      [1, 0, 0, 0],\n",
        "                      [1, 0, 0, 0],\n",
        "                      [1, 1, 1, 1]]) )\n",
        "plt.show()"
      ],
      "execution_count": null,
      "outputs": []
    },
    {
      "cell_type": "code",
      "metadata": {
        "id": "SOkmfCDOTngw"
      },
      "source": [
        "plt.imshow(np.array( [[0, 1, 0, 0],\n",
        "                      [1, 1, 1, 1],\n",
        "                      [0, 1, 0, 0],\n",
        "                      [0, 1, 0, 0]]) )\n",
        "plt.show()"
      ],
      "execution_count": null,
      "outputs": []
    },
    {
      "cell_type": "markdown",
      "metadata": {
        "id": "ubuLDTUxUBgw"
      },
      "source": [
        "A következő kód megjeleníti az adatbázis első példányát:"
      ]
    },
    {
      "cell_type": "code",
      "metadata": {
        "id": "Csx6CCeF7tE0"
      },
      "source": [
        "image_size = (16,16)\n",
        "an_image = np.reshape(data[0,0:256], image_size )\n",
        "plt.imshow(an_image)\n",
        "plt.show()"
      ],
      "execution_count": null,
      "outputs": []
    },
    {
      "cell_type": "markdown",
      "metadata": {
        "id": "r2VM0WNXUOPh"
      },
      "source": [
        "Az előbbihez hasonlóan az adatbázis bármelyik példányát megjeleníthetjük. Ennél azonban elegánsabb megoldás egy interaktív widget segítségével néhány példányt megjeleníteni:"
      ]
    },
    {
      "cell_type": "code",
      "metadata": {
        "id": "_YKClqsd8QqO"
      },
      "source": [
        "tb = widgets.TabBar([str(i) for i in range(10)], location='start')\n",
        "for i in range(10):\n",
        "  with tb.output_to(i):\n",
        "    an_image = np.reshape(data[i*20,0:256], image_size )\n",
        "    plt.imshow(an_image)\n",
        "    plt.show()"
      ],
      "execution_count": null,
      "outputs": []
    },
    {
      "cell_type": "code",
      "metadata": {
        "id": "4OpgcKuW861w"
      },
      "source": [
        "tb = widgets.TabBar([str(i) for i in range(10)], location='start')\n",
        "for i in range(10):\n",
        "  with tb.output_to(i):\n",
        "    an_image = np.reshape(data[60+i,0:256], image_size )\n",
        "    plt.imshow(an_image)\n",
        "    plt.show()"
      ],
      "execution_count": null,
      "outputs": []
    },
    {
      "cell_type": "markdown",
      "metadata": {
        "id": "bC19p6kuVAZn"
      },
      "source": [
        "**Adatok előkészítése**\n",
        "\n",
        "Felosztjuk az adatainkat tanító és teszt adatokra. Az utolsó 500 példány lesz a teszt adathalmaz, a többi a tanítóhalmaz."
      ]
    },
    {
      "cell_type": "code",
      "metadata": {
        "id": "HWifHgrKCN4a"
      },
      "source": [
        "train_data = data[:1093,0:256]\n",
        "train_labels = data[:1093,256:266]\n",
        "test_data = data[1093:,0:256]\n",
        "test_labels = data[1093:,256:266]"
      ],
      "execution_count": null,
      "outputs": []
    },
    {
      "cell_type": "markdown",
      "metadata": {
        "id": "P-XraOPYVMmy"
      },
      "source": [
        "Az eredeti adatbázisban a címkék ún. *one-hot encoding* formában adottak. Az, hogy tíz számjegy melyike látható egy képen, egy 10 hosszúságú vektorral adott, amelynek pontosan egyetlen eleme 1, a többi nulla. \n",
        "\n",
        "- Ha a képen '0' számjegy látható, a vektor nulladik eleme 1, a többi nulla; \n",
        "- ha a képen '1' számjegy látható, a vektor első eleme 1, a többi nulla;\n",
        "- és így tovább.\n",
        "\n",
        "Nekünk most arra lesz szükségünk, hogy az osztályok 0-tól 9-ig terjedő egész számokkal legyenek kódolva. Ezért definiálunk egy függvényt, amely az osztálycímkéket előállítja ebben az alakban."
      ]
    },
    {
      "cell_type": "code",
      "metadata": {
        "id": "nzEdTMAdFqUI"
      },
      "source": [
        "def ordinary_labels(raw_labels):\n",
        "  o_lab = []\n",
        "  for i in range(len(raw_labels)):\n",
        "    o_lab.append( np.argmax(raw_labels[i,:]) )\n",
        "  return np.array(o_lab)"
      ],
      "execution_count": null,
      "outputs": []
    },
    {
      "cell_type": "code",
      "metadata": {
        "id": "GmeLJmQjFrns"
      },
      "source": [
        "train_labels = ordinary_labels(train_labels)\n",
        "test_labels = ordinary_labels(test_labels)"
      ],
      "execution_count": null,
      "outputs": []
    },
    {
      "cell_type": "markdown",
      "metadata": {
        "id": "xFQGBxJ1WXY4"
      },
      "source": [
        "A köveketkezőkben egy neurális hálót definiálunk, amelynek 2 belső (rejtett) rétege van. A bemeneti réteg unit-jainak száma 256, mert egy-egy kép 16x16=256 pixelt tartalmaz. A kimeneti rétegben a 10 osztály mindegyikének egy-egy unit felel meg. Definiálnunk kell a neurális háló által elvégzett számítást leíró forward(...) függvényt is. "
      ]
    },
    {
      "cell_type": "code",
      "metadata": {
        "id": "juC3zhcr_ZK0"
      },
      "source": [
        "# A modell definiálása\n",
        "\n",
        "class DigitRecognizer(nn.Module):\n",
        "    def __init__(self):\n",
        "        super(DigitRecognizer, self).__init__()\n",
        "        number_of_units_in_the_first_hidden_layer = 100\n",
        "        number_of_units_in_the_second_hidden_layer = 50\n",
        "\n",
        "        self.fc1 = nn.Linear(256, \n",
        "                             number_of_units_in_the_first_hidden_layer)\n",
        "        \n",
        "        self.fc2 = nn.Linear(number_of_units_in_the_first_hidden_layer, \n",
        "                             number_of_units_in_the_second_hidden_layer)\n",
        "        \n",
        "        self.out = nn.Linear(number_of_units_in_the_second_hidden_layer, \n",
        "                             10) \n",
        "\n",
        "    def forward(self, x):\n",
        "        x = F.relu(self.fc1(x))\n",
        "        x = F.relu(self.fc2(x))\n",
        "        x = self.out(x)\n",
        "        return x"
      ],
      "execution_count": null,
      "outputs": []
    },
    {
      "cell_type": "markdown",
      "metadata": {
        "id": "F0zRFLG6aG1h"
      },
      "source": [
        "**A háló tanítása:**\n",
        "- a tanítóadatoból létrehozunk egy tensor datasetet, amelyet egy DataLoader-en keresztül fogunk elérni,\n",
        "- példányosítjuk a hálót,\n",
        "- megadjuk a célfüggvényt,\n",
        "- példányosítjuk az optimalizáló algoritmust,\n",
        "- végül a tanítóadatokon végighaladva az egyes batchekre elvégezzük az optimalizációs algoritmus egy-egy lépését (for ciklus)"
      ]
    },
    {
      "cell_type": "code",
      "metadata": {
        "id": "IQpL05UH9rJM"
      },
      "source": [
        "# a modell tanítása\n",
        "\n",
        "train_dataset = torch.utils.data.TensorDataset(\n",
        "  torch.Tensor(train_data), torch.LongTensor(train_labels) )\n",
        "trainloader = torch.utils.data.DataLoader(train_dataset, shuffle=True, batch_size=1)\n",
        "\n",
        "net = DigitRecognizer()\n",
        "criterion = nn.CrossEntropyLoss()\n",
        "optimizer = optim.SGD(net.parameters(), lr=1e-3)\n",
        "\n",
        "running_loss = 0.0\n",
        "running_n = 0\n",
        "\n",
        "for epoch in range(100):  \n",
        "  for inputs, targets in trainloader:\n",
        "    optimizer.zero_grad()\n",
        "    \n",
        "    outputs = net(inputs)\n",
        "\n",
        "    loss = criterion(outputs, targets)\n",
        "    loss.backward()\n",
        "    optimizer.step()\n",
        "\n",
        "    running_loss += loss.item()\n",
        "    running_n = running_n + 1\n",
        "\n",
        "\n",
        "  print('epoch %d, loss: %.3f' % (epoch + 1, running_loss / running_n))\n",
        "  running_loss = 0.0\n",
        "  running_n = 0   "
      ],
      "execution_count": null,
      "outputs": []
    },
    {
      "cell_type": "markdown",
      "metadata": {
        "id": "dYCPlBY4aEHI"
      },
      "source": [
        "**A háló pontosságának mérése**\n",
        "\n",
        "Megnézzük, hogy a tesztpéldányok közül hányat sikerül helyesen osztályozni."
      ]
    },
    {
      "cell_type": "code",
      "metadata": {
        "id": "0sP7L1TkBeAq"
      },
      "source": [
        "test_dataset = torch.utils.data.TensorDataset( \n",
        "      torch.Tensor(test_data), torch.LongTensor(test_labels)\n",
        ")\n",
        "testloader = torch.utils.data.DataLoader(test_dataset, batch_size=1, shuffle=True)\n",
        "\n",
        "correct = 0\n",
        "total = 0\n",
        "\n",
        "with torch.no_grad():\n",
        "  for inputs, targets in testloader:\n",
        "    outputs = net(inputs)\n",
        "    _, predicted = torch.max(outputs.data, 1)\n",
        "    total += targets.size(0)\n",
        "    correct += (predicted == targets).sum().item()\n",
        "\n",
        "print(\"Correct: %d\"%(correct))"
      ],
      "execution_count": null,
      "outputs": []
    },
    {
      "cell_type": "markdown",
      "metadata": {
        "id": "zt9tA_L_ncBa"
      },
      "source": [
        "A tanítóalgoritmus paramétereinek (pl. epochok száma, tanulási ráta, batch méret) valamint a háló rejtett rétegeinek és a rétegenkénti unitok számának változtatásával próbáljon meg olyan hálót létrehozni, amely a korábbinál nagyobb pontossággal ismeri fel a kézzel írt számjegyeket. Megodásként küldje el e-mail-en a \"modell definiálása\" és \"modell tanítása\" című cellákat. Az oktató a modellt a korábbiakhoz hasonló, de azoktól valamelyest eltérő adatokon fogja kiértékelni. Az oktató általi kiértékelés eredménye alapján kerül sor a megoldások rangsorolására és pontozására."
      ]
    }
  ]
}